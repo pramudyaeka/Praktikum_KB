{
 "cells": [
  {
   "cell_type": "markdown",
   "id": "ffbdefb9-440d-4d61-a0c4-59decf29244f",
   "metadata": {},
   "source": [
    "# Posttest 4"
   ]
  },
  {
   "cell_type": "code",
   "execution_count": 6,
   "id": "09fd2230-de4f-4625-92c5-6ebf97426596",
   "metadata": {},
   "outputs": [],
   "source": [
    "import pandas as pd\n",
    "import numpy as np\n",
    "from sklearn.model_selection import train_test_split\n",
    "from sklearn.preprocessing import MinMaxScaler\n",
    "from sklearn.preprocessing import StandardScaler\n",
    "from sklearn.impute import SimpleImputer\n",
    "from sklearn.preprocessing import OneHotEncoder"
   ]
  },
  {
   "cell_type": "code",
   "execution_count": 7,
   "id": "14e8a335-7de7-4019-a9b4-34a1e345e297",
   "metadata": {},
   "outputs": [],
   "source": [
    "df = pd.read_csv('FAKE NEWS DATASET.csv')\n",
    "df_pre = pd.read_csv('Dataset Posttest.csv')  # Dataset yang akan di preprocessing"
   ]
  },
  {
   "cell_type": "code",
   "execution_count": 3,
   "id": "f0492c25-466b-41d6-8aa6-c1a7b75cc5a3",
   "metadata": {},
   "outputs": [
    {
     "data": {
      "text/html": [
       "<div>\n",
       "<style scoped>\n",
       "    .dataframe tbody tr th:only-of-type {\n",
       "        vertical-align: middle;\n",
       "    }\n",
       "\n",
       "    .dataframe tbody tr th {\n",
       "        vertical-align: top;\n",
       "    }\n",
       "\n",
       "    .dataframe thead th {\n",
       "        text-align: right;\n",
       "    }\n",
       "</style>\n",
       "<table border=\"1\" class=\"dataframe\">\n",
       "  <thead>\n",
       "    <tr style=\"text-align: right;\">\n",
       "      <th></th>\n",
       "      <th>Author</th>\n",
       "      <th>Published</th>\n",
       "      <th>Title</th>\n",
       "      <th>Text</th>\n",
       "      <th>Language</th>\n",
       "      <th>Site_url</th>\n",
       "      <th>Main_img_url</th>\n",
       "      <th>Type</th>\n",
       "      <th>Label</th>\n",
       "      <th>Title_without_stopwords</th>\n",
       "      <th>Text_without_stopwords</th>\n",
       "      <th>HasImage</th>\n",
       "    </tr>\n",
       "  </thead>\n",
       "  <tbody>\n",
       "    <tr>\n",
       "      <th>0</th>\n",
       "      <td>Barracuda Brigade</td>\n",
       "      <td>2016-10-26T21:41:00.000+03:00</td>\n",
       "      <td>muslims busted they stole millions in govt ben...</td>\n",
       "      <td>print they should pay all the back all the mon...</td>\n",
       "      <td>english</td>\n",
       "      <td>100percentfedup.com</td>\n",
       "      <td>http://bb4sp.com/wp-content/uploads/2016/10/Fu...</td>\n",
       "      <td>bias</td>\n",
       "      <td>Real</td>\n",
       "      <td>muslims busted stole millions govt benefits</td>\n",
       "      <td>print pay back money plus interest entire fami...</td>\n",
       "      <td>1.0</td>\n",
       "    </tr>\n",
       "    <tr>\n",
       "      <th>1</th>\n",
       "      <td>reasoning with facts</td>\n",
       "      <td>2016-10-29T08:47:11.259+03:00</td>\n",
       "      <td>re why did attorney general loretta lynch plea...</td>\n",
       "      <td>why did attorney general loretta lynch plead t...</td>\n",
       "      <td>english</td>\n",
       "      <td>100percentfedup.com</td>\n",
       "      <td>http://bb4sp.com/wp-content/uploads/2016/10/Fu...</td>\n",
       "      <td>bias</td>\n",
       "      <td>Real</td>\n",
       "      <td>attorney general loretta lynch plead fifth</td>\n",
       "      <td>attorney general loretta lynch plead fifth bar...</td>\n",
       "      <td>1.0</td>\n",
       "    </tr>\n",
       "    <tr>\n",
       "      <th>2</th>\n",
       "      <td>Barracuda Brigade</td>\n",
       "      <td>2016-10-31T01:41:49.479+02:00</td>\n",
       "      <td>breaking weiner cooperating with fbi on hillar...</td>\n",
       "      <td>red state  \\nfox news sunday reported this mor...</td>\n",
       "      <td>english</td>\n",
       "      <td>100percentfedup.com</td>\n",
       "      <td>http://bb4sp.com/wp-content/uploads/2016/10/Fu...</td>\n",
       "      <td>bias</td>\n",
       "      <td>Real</td>\n",
       "      <td>breaking weiner cooperating fbi hillary email ...</td>\n",
       "      <td>red state fox news sunday reported morning ant...</td>\n",
       "      <td>1.0</td>\n",
       "    </tr>\n",
       "    <tr>\n",
       "      <th>3</th>\n",
       "      <td>Fed Up</td>\n",
       "      <td>2016-11-01T05:22:00.000+02:00</td>\n",
       "      <td>pin drop speech by father of daughter kidnappe...</td>\n",
       "      <td>email kayla mueller was a prisoner and torture...</td>\n",
       "      <td>english</td>\n",
       "      <td>100percentfedup.com</td>\n",
       "      <td>http://100percentfedup.com/wp-content/uploads/...</td>\n",
       "      <td>bias</td>\n",
       "      <td>Real</td>\n",
       "      <td>pin drop speech father daughter kidnapped kill...</td>\n",
       "      <td>email kayla mueller prisoner tortured isis cha...</td>\n",
       "      <td>1.0</td>\n",
       "    </tr>\n",
       "    <tr>\n",
       "      <th>4</th>\n",
       "      <td>Fed Up</td>\n",
       "      <td>2016-11-01T21:56:00.000+02:00</td>\n",
       "      <td>fantastic trumps  point plan to reform healthc...</td>\n",
       "      <td>email healthcare reform to make america great ...</td>\n",
       "      <td>english</td>\n",
       "      <td>100percentfedup.com</td>\n",
       "      <td>http://100percentfedup.com/wp-content/uploads/...</td>\n",
       "      <td>bias</td>\n",
       "      <td>Real</td>\n",
       "      <td>fantastic trumps point plan reform healthcare ...</td>\n",
       "      <td>email healthcare reform make america great sin...</td>\n",
       "      <td>1.0</td>\n",
       "    </tr>\n",
       "  </tbody>\n",
       "</table>\n",
       "</div>"
      ],
      "text/plain": [
       "                 Author                      Published  \\\n",
       "0     Barracuda Brigade  2016-10-26T21:41:00.000+03:00   \n",
       "1  reasoning with facts  2016-10-29T08:47:11.259+03:00   \n",
       "2     Barracuda Brigade  2016-10-31T01:41:49.479+02:00   \n",
       "3                Fed Up  2016-11-01T05:22:00.000+02:00   \n",
       "4                Fed Up  2016-11-01T21:56:00.000+02:00   \n",
       "\n",
       "                                               Title  \\\n",
       "0  muslims busted they stole millions in govt ben...   \n",
       "1  re why did attorney general loretta lynch plea...   \n",
       "2  breaking weiner cooperating with fbi on hillar...   \n",
       "3  pin drop speech by father of daughter kidnappe...   \n",
       "4  fantastic trumps  point plan to reform healthc...   \n",
       "\n",
       "                                                Text Language  \\\n",
       "0  print they should pay all the back all the mon...  english   \n",
       "1  why did attorney general loretta lynch plead t...  english   \n",
       "2  red state  \\nfox news sunday reported this mor...  english   \n",
       "3  email kayla mueller was a prisoner and torture...  english   \n",
       "4  email healthcare reform to make america great ...  english   \n",
       "\n",
       "              Site_url                                       Main_img_url  \\\n",
       "0  100percentfedup.com  http://bb4sp.com/wp-content/uploads/2016/10/Fu...   \n",
       "1  100percentfedup.com  http://bb4sp.com/wp-content/uploads/2016/10/Fu...   \n",
       "2  100percentfedup.com  http://bb4sp.com/wp-content/uploads/2016/10/Fu...   \n",
       "3  100percentfedup.com  http://100percentfedup.com/wp-content/uploads/...   \n",
       "4  100percentfedup.com  http://100percentfedup.com/wp-content/uploads/...   \n",
       "\n",
       "   Type Label                            Title_without_stopwords  \\\n",
       "0  bias  Real        muslims busted stole millions govt benefits   \n",
       "1  bias  Real         attorney general loretta lynch plead fifth   \n",
       "2  bias  Real  breaking weiner cooperating fbi hillary email ...   \n",
       "3  bias  Real  pin drop speech father daughter kidnapped kill...   \n",
       "4  bias  Real  fantastic trumps point plan reform healthcare ...   \n",
       "\n",
       "                              Text_without_stopwords  HasImage  \n",
       "0  print pay back money plus interest entire fami...       1.0  \n",
       "1  attorney general loretta lynch plead fifth bar...       1.0  \n",
       "2  red state fox news sunday reported morning ant...       1.0  \n",
       "3  email kayla mueller prisoner tortured isis cha...       1.0  \n",
       "4  email healthcare reform make america great sin...       1.0  "
      ]
     },
     "execution_count": 3,
     "metadata": {},
     "output_type": "execute_result"
    }
   ],
   "source": [
    "df.head()"
   ]
  },
  {
   "cell_type": "markdown",
   "id": "90044710-9157-413b-90ef-253f1a3fbf7f",
   "metadata": {},
   "source": [
    "## Membagi Training set dan test set dengan proporsi 70:30 "
   ]
  },
  {
   "cell_type": "code",
   "execution_count": 4,
   "id": "34150b8a-ca7d-4624-9279-804f272fe062",
   "metadata": {},
   "outputs": [],
   "source": [
    "train_data = df_pre [['Author','Published','Title','Text','Language','Site_url','Main_img_url','Type','Title_without_stopwords','Text_without_stopwords','HasImage']]\n",
    "label_data = df_pre ['Label']"
   ]
  },
  {
   "cell_type": "code",
   "execution_count": 5,
   "id": "4cef6431-2089-43a8-bbf4-066233d99a0f",
   "metadata": {},
   "outputs": [],
   "source": [
    "x_train, x_test, y_train, y_test = train_test_split(train_data, label_data, test_size=.3)"
   ]
  },
  {
   "cell_type": "markdown",
   "id": "237041de-0080-43ac-8976-f1b8962768ba",
   "metadata": {},
   "source": [
    "## Menampilkan total data train, data test, label train, label test dan total data"
   ]
  },
  {
   "cell_type": "code",
   "execution_count": 6,
   "id": "bb9c90a2-f90a-4a8a-ad1e-411c5fcbc202",
   "metadata": {},
   "outputs": [
    {
     "name": "stdout",
     "output_type": "stream",
     "text": [
      "Jumlah Data Train\t: 1484 Data\n",
      "Jumlah Label Train\t: 1484 Data\n",
      "Jumlah Data Test\t: 636 Data\n",
      "Jumlah Label Test\t: 636 Data\n",
      "Jumlah Record\t\t: 2120 Data\n"
     ]
    }
   ],
   "source": [
    "print('Jumlah Data Train\\t: %d Data' % len(x_train),\n",
    "      'Jumlah Label Train\\t: %d Data' % len(y_train),\n",
    "      'Jumlah Data Test\\t: %d Data' % len(x_test),\n",
    "      'Jumlah Label Test\\t: %d Data' % len(y_test),\n",
    "      'Jumlah Record\\t\\t: %d Data' % len(df_pre),\n",
    "      sep='\\n')"
   ]
  },
  {
   "cell_type": "markdown",
   "id": "ce8a2a9d-b8bf-438f-8c34-dd0823af7ce1",
   "metadata": {},
   "source": [
    "## Normalisasi data pada salah satu attribute dengan Min Max Scaler"
   ]
  },
  {
   "cell_type": "code",
   "execution_count": 7,
   "id": "9aea0881-e667-41c1-9df3-c51372c7cf68",
   "metadata": {},
   "outputs": [],
   "source": [
    "MinMax = MinMaxScaler()\n",
    "copy = df.copy()\n",
    "normalisasi = MinMax.fit_transform(copy[['HasImage']])"
   ]
  },
  {
   "cell_type": "markdown",
   "id": "dfe6d3ed-b4c0-4529-ab4e-dfcfc5a4b3d8",
   "metadata": {},
   "source": [
    "## Mengubah hasil normalisasi ke dalam bentuk dataframe"
   ]
  },
  {
   "cell_type": "code",
   "execution_count": 9,
   "id": "ac6d9b35-e791-4ad2-825c-2cbe088b2fd3",
   "metadata": {},
   "outputs": [],
   "source": [
    "hasilNormalisasi = pd.DataFrame(normalisasi)"
   ]
  },
  {
   "cell_type": "markdown",
   "id": "59e38c33-b8dd-4bf2-86b7-c10e08cf4f96",
   "metadata": {},
   "source": [
    "### Menampilkan Hasil normalisasi"
   ]
  },
  {
   "cell_type": "code",
   "execution_count": 11,
   "id": "5cc24e56-be66-456e-95ba-2d39bedc036a",
   "metadata": {},
   "outputs": [
    {
     "data": {
      "text/html": [
       "<div>\n",
       "<style scoped>\n",
       "    .dataframe tbody tr th:only-of-type {\n",
       "        vertical-align: middle;\n",
       "    }\n",
       "\n",
       "    .dataframe tbody tr th {\n",
       "        vertical-align: top;\n",
       "    }\n",
       "\n",
       "    .dataframe thead th {\n",
       "        text-align: right;\n",
       "    }\n",
       "</style>\n",
       "<table border=\"1\" class=\"dataframe\">\n",
       "  <thead>\n",
       "    <tr style=\"text-align: right;\">\n",
       "      <th></th>\n",
       "      <th>HasImage</th>\n",
       "    </tr>\n",
       "  </thead>\n",
       "  <tbody>\n",
       "    <tr>\n",
       "      <th>0</th>\n",
       "      <td>1.0</td>\n",
       "    </tr>\n",
       "    <tr>\n",
       "      <th>1</th>\n",
       "      <td>1.0</td>\n",
       "    </tr>\n",
       "    <tr>\n",
       "      <th>2</th>\n",
       "      <td>1.0</td>\n",
       "    </tr>\n",
       "    <tr>\n",
       "      <th>3</th>\n",
       "      <td>1.0</td>\n",
       "    </tr>\n",
       "    <tr>\n",
       "      <th>4</th>\n",
       "      <td>1.0</td>\n",
       "    </tr>\n",
       "    <tr>\n",
       "      <th>...</th>\n",
       "      <td>...</td>\n",
       "    </tr>\n",
       "    <tr>\n",
       "      <th>2115</th>\n",
       "      <td>1.0</td>\n",
       "    </tr>\n",
       "    <tr>\n",
       "      <th>2116</th>\n",
       "      <td>1.0</td>\n",
       "    </tr>\n",
       "    <tr>\n",
       "      <th>2117</th>\n",
       "      <td>1.0</td>\n",
       "    </tr>\n",
       "    <tr>\n",
       "      <th>2118</th>\n",
       "      <td>1.0</td>\n",
       "    </tr>\n",
       "    <tr>\n",
       "      <th>2119</th>\n",
       "      <td>1.0</td>\n",
       "    </tr>\n",
       "  </tbody>\n",
       "</table>\n",
       "<p>2120 rows × 1 columns</p>\n",
       "</div>"
      ],
      "text/plain": [
       "      HasImage\n",
       "0          1.0\n",
       "1          1.0\n",
       "2          1.0\n",
       "3          1.0\n",
       "4          1.0\n",
       "...        ...\n",
       "2115       1.0\n",
       "2116       1.0\n",
       "2117       1.0\n",
       "2118       1.0\n",
       "2119       1.0\n",
       "\n",
       "[2120 rows x 1 columns]"
      ]
     },
     "execution_count": 11,
     "metadata": {},
     "output_type": "execute_result"
    }
   ],
   "source": [
    "hasilNormalisasi.rename(columns = {0 : 'HasImage'}, inplace = True) # Rename Nama Kolom\n",
    "hasilNormalisasi"
   ]
  },
  {
   "cell_type": "markdown",
   "id": "343c6a6d-7fd8-4327-89cb-96c330c69e82",
   "metadata": {},
   "source": [
    "## Standarisasi Dataset"
   ]
  },
  {
   "cell_type": "code",
   "execution_count": 19,
   "id": "b54f51df-1b97-4803-b707-e8d8b882e835",
   "metadata": {},
   "outputs": [],
   "source": [
    "ss = StandardScaler()\n",
    "copy = df.copy()\n",
    "standarisasi = ss.fit_transform(copy[['HasImage']])"
   ]
  },
  {
   "cell_type": "markdown",
   "id": "f8d6762e-efce-476b-b221-e608dafbc587",
   "metadata": {},
   "source": [
    "### Mengubah hasil standarisasi ke dalam dataframe"
   ]
  },
  {
   "cell_type": "code",
   "execution_count": 20,
   "id": "be436cba-6fd7-468d-a811-49c9a091259a",
   "metadata": {},
   "outputs": [],
   "source": [
    "hasilStandarisasi =pd.DataFrame (standarisasi)"
   ]
  },
  {
   "cell_type": "markdown",
   "id": "d8d2f444-6231-41d8-b1cb-edb3eae91302",
   "metadata": {},
   "source": [
    "### Menampilkan hasil Standarisasi"
   ]
  },
  {
   "cell_type": "code",
   "execution_count": 22,
   "id": "6eb4189d-6241-4552-a8e7-cc9932b7a21c",
   "metadata": {},
   "outputs": [
    {
     "data": {
      "text/html": [
       "<div>\n",
       "<style scoped>\n",
       "    .dataframe tbody tr th:only-of-type {\n",
       "        vertical-align: middle;\n",
       "    }\n",
       "\n",
       "    .dataframe tbody tr th {\n",
       "        vertical-align: top;\n",
       "    }\n",
       "\n",
       "    .dataframe thead th {\n",
       "        text-align: right;\n",
       "    }\n",
       "</style>\n",
       "<table border=\"1\" class=\"dataframe\">\n",
       "  <thead>\n",
       "    <tr style=\"text-align: right;\">\n",
       "      <th></th>\n",
       "      <th>HasImage</th>\n",
       "    </tr>\n",
       "  </thead>\n",
       "  <tbody>\n",
       "    <tr>\n",
       "      <th>0</th>\n",
       "      <td>0.516475</td>\n",
       "    </tr>\n",
       "    <tr>\n",
       "      <th>1</th>\n",
       "      <td>0.516475</td>\n",
       "    </tr>\n",
       "    <tr>\n",
       "      <th>2</th>\n",
       "      <td>0.516475</td>\n",
       "    </tr>\n",
       "    <tr>\n",
       "      <th>3</th>\n",
       "      <td>0.516475</td>\n",
       "    </tr>\n",
       "    <tr>\n",
       "      <th>4</th>\n",
       "      <td>0.516475</td>\n",
       "    </tr>\n",
       "    <tr>\n",
       "      <th>...</th>\n",
       "      <td>...</td>\n",
       "    </tr>\n",
       "    <tr>\n",
       "      <th>2115</th>\n",
       "      <td>0.516475</td>\n",
       "    </tr>\n",
       "    <tr>\n",
       "      <th>2116</th>\n",
       "      <td>0.516475</td>\n",
       "    </tr>\n",
       "    <tr>\n",
       "      <th>2117</th>\n",
       "      <td>0.516475</td>\n",
       "    </tr>\n",
       "    <tr>\n",
       "      <th>2118</th>\n",
       "      <td>0.516475</td>\n",
       "    </tr>\n",
       "    <tr>\n",
       "      <th>2119</th>\n",
       "      <td>0.516475</td>\n",
       "    </tr>\n",
       "  </tbody>\n",
       "</table>\n",
       "<p>2120 rows × 1 columns</p>\n",
       "</div>"
      ],
      "text/plain": [
       "      HasImage\n",
       "0     0.516475\n",
       "1     0.516475\n",
       "2     0.516475\n",
       "3     0.516475\n",
       "4     0.516475\n",
       "...        ...\n",
       "2115  0.516475\n",
       "2116  0.516475\n",
       "2117  0.516475\n",
       "2118  0.516475\n",
       "2119  0.516475\n",
       "\n",
       "[2120 rows x 1 columns]"
      ]
     },
     "execution_count": 22,
     "metadata": {},
     "output_type": "execute_result"
    }
   ],
   "source": [
    "hasilStandarisasi.rename(columns = {0 : 'HasImage'}, inplace = True) # Rename Nama Kolom\n",
    "hasilStandarisasi"
   ]
  },
  {
   "cell_type": "code",
   "execution_count": 23,
   "id": "10eb22d8-1d6e-43e4-9b13-98417307d4dd",
   "metadata": {},
   "outputs": [
    {
     "name": "stdout",
     "output_type": "stream",
     "text": [
      "Dataset sebelum standarisasi:\n",
      "                    Author                      Published  \\\n",
      "0        Barracuda Brigade  2016-10-26T21:41:00.000+03:00   \n",
      "1     reasoning with facts  2016-10-29T08:47:11.259+03:00   \n",
      "2        Barracuda Brigade  2016-10-31T01:41:49.479+02:00   \n",
      "3                   Fed Up  2016-11-01T05:22:00.000+02:00   \n",
      "4                   Fed Up  2016-11-01T21:56:00.000+02:00   \n",
      "...                    ...                            ...   \n",
      "2115          Jared Taylor  2016-10-29T04:38:59.696+03:00   \n",
      "2116          Jared Taylor  2016-10-29T04:39:00.164+03:00   \n",
      "2117           Henry Wolff  2016-10-29T04:39:02.722+03:00   \n",
      "2118           Henry Wolff  2016-10-29T04:39:05.622+03:00   \n",
      "2119           Henry Wolff  2016-10-29T04:39:06.431+03:00   \n",
      "\n",
      "                                                  Title  \\\n",
      "0     muslims busted they stole millions in govt ben...   \n",
      "1     re why did attorney general loretta lynch plea...   \n",
      "2     breaking weiner cooperating with fbi on hillar...   \n",
      "3     pin drop speech by father of daughter kidnappe...   \n",
      "4     fantastic trumps  point plan to reform healthc...   \n",
      "...                                                 ...   \n",
      "2115                      media selfdestruct over trump   \n",
      "2116  trump reaches out to blacks blacks riot in phi...   \n",
      "2117  some cities want their noncitizen immigrants t...   \n",
      "2118  illinois senator draws fire for racially charg...   \n",
      "2119  go back to where you claim home kansas lawmake...   \n",
      "\n",
      "                                                   Text Language  \\\n",
      "0     print they should pay all the back all the mon...  english   \n",
      "1     why did attorney general loretta lynch plead t...  english   \n",
      "2     red state  \\nfox news sunday reported this mor...  english   \n",
      "3     email kayla mueller was a prisoner and torture...  english   \n",
      "4     email healthcare reform to make america great ...  english   \n",
      "...                                                 ...      ...   \n",
      "2115  some cities want their noncitizen immigrants t...  english   \n",
      "2116  illinois senator draws fire for racially charg...  english   \n",
      "2117  go back to where you claim home kansas lawmake...  english   \n",
      "2118  rancher yearns for trump wall on usmexico bord...  english   \n",
      "2119  ers fans care more about victories than kaeper...  english   \n",
      "\n",
      "                 Site_url                                       Main_img_url  \\\n",
      "0     100percentfedup.com  http://bb4sp.com/wp-content/uploads/2016/10/Fu...   \n",
      "1     100percentfedup.com  http://bb4sp.com/wp-content/uploads/2016/10/Fu...   \n",
      "2     100percentfedup.com  http://bb4sp.com/wp-content/uploads/2016/10/Fu...   \n",
      "3     100percentfedup.com  http://100percentfedup.com/wp-content/uploads/...   \n",
      "4     100percentfedup.com  http://100percentfedup.com/wp-content/uploads/...   \n",
      "...                   ...                                                ...   \n",
      "2115            amren.com  http://www.amren.com/wp-content/uploads/2014/0...   \n",
      "2116            amren.com  http://www.amren.com/wp-content/uploads/2014/0...   \n",
      "2117            amren.com  http://www.amren.com/wp-content/uploads/2014/0...   \n",
      "2118            amren.com  http://www.amren.com/wp-content/uploads/2014/0...   \n",
      "2119            amren.com  http://www.amren.com/wp-content/uploads/2014/0...   \n",
      "\n",
      "      Type Label                            Title_without_stopwords  \\\n",
      "0     bias  Real        muslims busted stole millions govt benefits   \n",
      "1     bias  Real         attorney general loretta lynch plead fifth   \n",
      "2     bias  Real  breaking weiner cooperating fbi hillary email ...   \n",
      "3     bias  Real  pin drop speech father daughter kidnapped kill...   \n",
      "4     bias  Real  fantastic trumps point plan reform healthcare ...   \n",
      "...    ...   ...                                                ...   \n",
      "2115    bs  Fake                           media selfdestruct trump   \n",
      "2116    bs  Fake      trump reaches blacks blacks riot philadelphia   \n",
      "2117    bs  Fake             cities want noncitizen immigrants vote   \n",
      "2118    bs  Fake  illinois senator draws fire racially charged a...   \n",
      "2119    bs  Fake  go back claim home kansas lawmaker tells prote...   \n",
      "\n",
      "                                 Text_without_stopwords  HasImage  \n",
      "0     print pay back money plus interest entire fami...       1.0  \n",
      "1     attorney general loretta lynch plead fifth bar...       1.0  \n",
      "2     red state fox news sunday reported morning ant...       1.0  \n",
      "3     email kayla mueller prisoner tortured isis cha...       1.0  \n",
      "4     email healthcare reform make america great sin...       1.0  \n",
      "...                                                 ...       ...  \n",
      "2115  cities want noncitizen immigrants vote carolin...       1.0  \n",
      "2116  illinois senator draws fire racially charged a...       1.0  \n",
      "2117  go back claim home kansas lawmaker tells prote...       1.0  \n",
      "2118  rancher yearns trump wall usmexico border afp ...       1.0  \n",
      "2119  ers fans care victories kaepernick elliott alm...       1.0  \n",
      "\n",
      "[2120 rows x 12 columns]\n",
      "Nilai standar deviasi:\n",
      "HasImage    0.407718\n",
      "dtype: float64\n",
      "\n",
      "Dataset setelah standarisasi:\n",
      "[[0.51647499]\n",
      " [0.51647499]\n",
      " [0.51647499]\n",
      " ...\n",
      " [0.51647499]\n",
      " [0.51647499]\n",
      " [0.51647499]]\n",
      "Nilai standar deviasi: nan\n"
     ]
    },
    {
     "name": "stderr",
     "output_type": "stream",
     "text": [
      "C:\\Users\\ACER.DX\\venv_B1-21\\Pranata_077\\lib\\site-packages\\numpy\\core\\fromnumeric.py:3643: FutureWarning: Dropping of nuisance columns in DataFrame reductions (with 'numeric_only=None') is deprecated; in a future version this will raise TypeError.  Select only valid columns before calling the reduction.\n",
      "  return std(axis=axis, dtype=dtype, out=out, ddof=ddof, **kwargs)\n"
     ]
    }
   ],
   "source": [
    "print('Dataset sebelum standarisasi:',\n",
    "      copy,\n",
    "      f'Nilai standar deviasi:\\n{np.std(copy)}',\n",
    "      sep='\\n', end='\\n\\n')\n",
    "\n",
    "print('Dataset setelah standarisasi:',\n",
    "      standarisasi,\n",
    "      f'Nilai standar deviasi: {np.std(standarisasi)}',\n",
    "      sep='\\n')"
   ]
  },
  {
   "cell_type": "markdown",
   "id": "53dce175-56c7-4d00-aaf9-8b39bfc4ec00",
   "metadata": {},
   "source": [
    "## Data Cleaning"
   ]
  },
  {
   "cell_type": "markdown",
   "id": "5a3d3e8c-945f-457a-ad01-949813a7dac5",
   "metadata": {},
   "source": [
    "### Melakukan Data Cleaning pada data yang memiliki nilai null\n",
    "#### Sebelum dilakukan Data Cleaning maka di cek dulu apakah ada yang null\n",
    "- Cek nilai null dengan memanggil *df_pre.isna().sum()*"
   ]
  },
  {
   "cell_type": "code",
   "execution_count": 25,
   "id": "975abef0-7e76-4681-826d-9f33f69cb861",
   "metadata": {},
   "outputs": [
    {
     "data": {
      "text/plain": [
       "Author                      1\n",
       "Published                   0\n",
       "Title                       0\n",
       "Text                       45\n",
       "Language                    1\n",
       "Site_url                    1\n",
       "Main_img_url                1\n",
       "Type                        1\n",
       "Label                       1\n",
       "Title_without_stopwords     3\n",
       "Text_without_stopwords     51\n",
       "HasImage                    2\n",
       "dtype: int64"
      ]
     },
     "execution_count": 25,
     "metadata": {},
     "output_type": "execute_result"
    }
   ],
   "source": [
    "df_pre.isna().sum()"
   ]
  },
  {
   "cell_type": "markdown",
   "id": "79ff8643-4dc1-4100-9d70-d8c5eafaf455",
   "metadata": {},
   "source": [
    "#### Dapat dilihat bahwa nilai null ada dalam semua attribute kecuali pada attribute **Published** dan **Title**\n",
    "Untuk menangani nilai null, pada attribute **HasImage** dapat menggunakan strategy median atau modus dan untuk kali ini saya menggunakan modus dengan menggunakan fungsi **SimpleImputer** yang akan ditaruh dalam variabel **imputer** dengan memanggil **most_frequent**"
   ]
  },
  {
   "cell_type": "code",
   "execution_count": null,
   "id": "26e9b98c-bdfa-45d8-a204-a199a89edb32",
   "metadata": {},
   "outputs": [],
   "source": [
    "imputer = SimpleImputer(strategy = 'most_frequent')\n",
    "df_pre[['HasImage',]] = imputer.fit_transform(df_pre[['HasImage']])"
   ]
  },
  {
   "cell_type": "markdown",
   "id": "b5cf7601-82dd-4556-9d01-f18197155839",
   "metadata": {},
   "source": [
    "Untuk menangani nilai null, pada attribute selain **HasImage** dapat menggunakan strategy modus dengan menggunakan fungsi **SimpleImputer** yang akan ditaruh dalam variabel **imputer** dengan memanggil **most_frequent**"
   ]
  },
  {
   "cell_type": "code",
   "execution_count": 14,
   "id": "dd0322d9-0b3a-440f-8d38-33be1c403fd0",
   "metadata": {},
   "outputs": [],
   "source": [
    "imputer = SimpleImputer(strategy = 'most_frequent')\n",
    "df_pre[['Author',]] = imputer.fit_transform(df_pre[['Author']])\n",
    "df_pre[['Text',]] = imputer.fit_transform(df_pre[['Text']])\n",
    "df_pre[['Language',]] = imputer.fit_transform(df_pre[['Language']])\n",
    "df_pre[['Site_url',]] = imputer.fit_transform(df_pre[['Site_url']])\n",
    "df_pre[['Main_img_url',]] = imputer.fit_transform(df_pre[['Main_img_url']])\n",
    "df_pre[['Type',]] = imputer.fit_transform(df_pre[['Type']])\n",
    "df_pre[['Label',]] = imputer.fit_transform(df_pre[['Label']])\n",
    "df_pre[['Title_without_stopwords',]] = imputer.fit_transform(df_pre[['Title_without_stopwords']])\n",
    "df_pre[['Text_without_stopwords',]] = imputer.fit_transform(df_pre[['Text_without_stopwords']])"
   ]
  },
  {
   "cell_type": "markdown",
   "id": "b4176846-d403-48c3-99fa-b155d458b42a",
   "metadata": {},
   "source": [
    "#### Untuk melihat apakah data null telah ditangani, maka kita akan memanggil fungsi **df_pre.isna().sum()** untuk melihat apakah masih ada data null atau tidak"
   ]
  },
  {
   "cell_type": "code",
   "execution_count": 15,
   "id": "b3a9c750-7cfd-44f3-be5f-90a25923f3cd",
   "metadata": {},
   "outputs": [
    {
     "data": {
      "text/plain": [
       "Author                     0\n",
       "Published                  0\n",
       "Title                      0\n",
       "Text                       0\n",
       "Language                   0\n",
       "Site_url                   0\n",
       "Main_img_url               0\n",
       "Type                       0\n",
       "Label                      0\n",
       "Title_without_stopwords    0\n",
       "Text_without_stopwords     0\n",
       "HasImage                   0\n",
       "dtype: int64"
      ]
     },
     "execution_count": 15,
     "metadata": {},
     "output_type": "execute_result"
    }
   ],
   "source": [
    "df_pre.isna().sum()"
   ]
  },
  {
   "cell_type": "markdown",
   "id": "dbaacf43-42cd-496b-8cf4-c884e3f042c7",
   "metadata": {},
   "source": [
    "### Melakukan Data Cleaning pada data yang memiliki nilai null\n",
    "#### Sebelum dilakukan Data Cleaning maka di cek dulu apakah ada yang null\n",
    "- Cek nilai duplikat dengan memanggil *df_pre.duplicated().sum()*"
   ]
  },
  {
   "cell_type": "code",
   "execution_count": 30,
   "id": "4fbf939e-1da4-4cfb-9e8d-8f0e0d82165e",
   "metadata": {},
   "outputs": [
    {
     "data": {
      "text/plain": [
       "58"
      ]
     },
     "execution_count": 30,
     "metadata": {},
     "output_type": "execute_result"
    }
   ],
   "source": [
    "df.duplicated().sum()"
   ]
  },
  {
   "cell_type": "markdown",
   "id": "13cc277a-398f-424c-a370-5ecee2c38504",
   "metadata": {},
   "source": [
    "### Menghapus Data Duplikat\n",
    "Untuk menghapus data duplikat dapat dilakukan dengan memanggil df_pre.drop_duplicates()"
   ]
  },
  {
   "cell_type": "code",
   "execution_count": 27,
   "id": "c95e1b09-05b8-4306-9f61-c0151f60b33b",
   "metadata": {},
   "outputs": [],
   "source": [
    "df_pre.drop_duplicates(inplace = True)"
   ]
  },
  {
   "cell_type": "markdown",
   "id": "becd4ba7-4583-43ce-962f-178473187c6d",
   "metadata": {},
   "source": [
    "#### Mengecek apakah telah terhapus dengan memanggil *df_pre.duplicated().sum()*\n"
   ]
  },
  {
   "cell_type": "code",
   "execution_count": 28,
   "id": "d3964ff9-ad6f-4cfd-b7ee-e922e5b8a00a",
   "metadata": {},
   "outputs": [
    {
     "data": {
      "text/plain": [
       "0"
      ]
     },
     "execution_count": 28,
     "metadata": {},
     "output_type": "execute_result"
    }
   ],
   "source": [
    "df_pre.duplicated().sum()"
   ]
  },
  {
   "cell_type": "markdown",
   "id": "66dc821f-c739-467f-b01e-ad98f2227ad6",
   "metadata": {},
   "source": [
    "### Mengganti Tipe Data Attribute Angka\n",
    "Sebelum mengganti tipe data, kita akan cek terlebih dahulu data yang bertipe angka. Attribute yang akan diubah adalah **HasImage** dari **float64** menjadi **int64**. Membuat variabel **change** untuk menampung fungsi **.astype()** yang digunakan untuk mengganti tipe data."
   ]
  },
  {
   "cell_type": "code",
   "execution_count": 19,
   "id": "329351ca-6507-4b42-86bd-6c7bd850a1ea",
   "metadata": {},
   "outputs": [
    {
     "name": "stdout",
     "output_type": "stream",
     "text": [
      "<class 'pandas.core.frame.DataFrame'>\n",
      "RangeIndex: 2120 entries, 0 to 2119\n",
      "Data columns (total 12 columns):\n",
      " #   Column                   Non-Null Count  Dtype  \n",
      "---  ------                   --------------  -----  \n",
      " 0   Author                   2120 non-null   object \n",
      " 1   Published                2120 non-null   object \n",
      " 2   Title                    2120 non-null   object \n",
      " 3   Text                     2120 non-null   object \n",
      " 4   Language                 2120 non-null   object \n",
      " 5   Site_url                 2120 non-null   object \n",
      " 6   Main_img_url             2120 non-null   object \n",
      " 7   Type                     2120 non-null   object \n",
      " 8   Label                    2120 non-null   object \n",
      " 9   Title_without_stopwords  2120 non-null   object \n",
      " 10  Text_without_stopwords   2120 non-null   object \n",
      " 11  HasImage                 2120 non-null   float64\n",
      "dtypes: float64(1), object(11)\n",
      "memory usage: 198.9+ KB\n"
     ]
    }
   ],
   "source": [
    "df_pre.info()"
   ]
  },
  {
   "cell_type": "code",
   "execution_count": 20,
   "id": "084eeb7c-b67c-4522-981f-1a40d4bf990a",
   "metadata": {},
   "outputs": [
    {
     "data": {
      "text/plain": [
       "dtype('int64')"
      ]
     },
     "execution_count": 20,
     "metadata": {},
     "output_type": "execute_result"
    }
   ],
   "source": [
    "change = df_pre[['HasImage']].astype('int64')\n",
    "change['HasImage'].dtypes"
   ]
  },
  {
   "cell_type": "markdown",
   "id": "52051008-d994-4574-a421-f7efcd145649",
   "metadata": {},
   "source": [
    "## One Hot Encoding\n",
    "### Melakukan One Hot Encoding pada attribute **Label** dengan menggunakan fungsi **OneHotEncoder(sparse_output=False)** dan ditaruh pada variabel onehot yang nantinya akan ditampung didalam variabel **label_encoded** dengan fungsi **onehot.fit_transform(df_pre[[\"Label\"]])**. Setelah itu data akan diubah ke dalam dataframe dan akan ditampilkan menjadi tabel, lalu attribute yang telah dilakukan **One Hot Encoding** digabung ke dalam tabel"
   ]
  },
  {
   "cell_type": "code",
   "execution_count": 22,
   "id": "bc10e080-90d2-4539-bd9c-e3779d3aa6b0",
   "metadata": {},
   "outputs": [
    {
     "data": {
      "text/html": [
       "<div>\n",
       "<style scoped>\n",
       "    .dataframe tbody tr th:only-of-type {\n",
       "        vertical-align: middle;\n",
       "    }\n",
       "\n",
       "    .dataframe tbody tr th {\n",
       "        vertical-align: top;\n",
       "    }\n",
       "\n",
       "    .dataframe thead th {\n",
       "        text-align: right;\n",
       "    }\n",
       "</style>\n",
       "<table border=\"1\" class=\"dataframe\">\n",
       "  <thead>\n",
       "    <tr style=\"text-align: right;\">\n",
       "      <th></th>\n",
       "      <th>Author</th>\n",
       "      <th>Published</th>\n",
       "      <th>Title</th>\n",
       "      <th>Text</th>\n",
       "      <th>Language</th>\n",
       "      <th>Site_url</th>\n",
       "      <th>Main_img_url</th>\n",
       "      <th>Type</th>\n",
       "      <th>Label</th>\n",
       "      <th>Title_without_stopwords</th>\n",
       "      <th>Text_without_stopwords</th>\n",
       "      <th>HasImage</th>\n",
       "      <th>0</th>\n",
       "      <th>1</th>\n",
       "      <th>2</th>\n",
       "    </tr>\n",
       "  </thead>\n",
       "  <tbody>\n",
       "    <tr>\n",
       "      <th>0</th>\n",
       "      <td>Barracuda Brigade</td>\n",
       "      <td>2016-10-26T21:41:00.000+03:00</td>\n",
       "      <td>muslims busted they stole millions in govt ben...</td>\n",
       "      <td>print they should pay all the back all the mon...</td>\n",
       "      <td>english</td>\n",
       "      <td>100percentfedup.com</td>\n",
       "      <td>http://bb4sp.com/wp-content/uploads/2016/10/Fu...</td>\n",
       "      <td>bias</td>\n",
       "      <td>Real</td>\n",
       "      <td>muslims busted stole millions govt benefits</td>\n",
       "      <td>print pay back money plus interest entire fami...</td>\n",
       "      <td>1.0</td>\n",
       "      <td>0.0</td>\n",
       "      <td>0.0</td>\n",
       "      <td>1.0</td>\n",
       "    </tr>\n",
       "    <tr>\n",
       "      <th>1</th>\n",
       "      <td>reasoning with facts</td>\n",
       "      <td>2016-10-29T08:47:11.259+03:00</td>\n",
       "      <td>re why did attorney general loretta lynch plea...</td>\n",
       "      <td>why did attorney general loretta lynch plead t...</td>\n",
       "      <td>english</td>\n",
       "      <td>100percentfedup.com</td>\n",
       "      <td>http://bb4sp.com/wp-content/uploads/2016/10/Fu...</td>\n",
       "      <td>bias</td>\n",
       "      <td>Real</td>\n",
       "      <td>attorney general loretta lynch plead fifth</td>\n",
       "      <td>attorney general loretta lynch plead fifth bar...</td>\n",
       "      <td>1.0</td>\n",
       "      <td>0.0</td>\n",
       "      <td>0.0</td>\n",
       "      <td>1.0</td>\n",
       "    </tr>\n",
       "    <tr>\n",
       "      <th>2</th>\n",
       "      <td>Barracuda Brigade</td>\n",
       "      <td>2016-10-31T01:41:49.479+02:00</td>\n",
       "      <td>breaking weiner cooperating with fbi on hillar...</td>\n",
       "      <td>red state  \\nfox news sunday reported this mor...</td>\n",
       "      <td>english</td>\n",
       "      <td>100percentfedup.com</td>\n",
       "      <td>http://bb4sp.com/wp-content/uploads/2016/10/Fu...</td>\n",
       "      <td>bias</td>\n",
       "      <td>Real</td>\n",
       "      <td>breaking weiner cooperating fbi hillary email ...</td>\n",
       "      <td>red state fox news sunday reported morning ant...</td>\n",
       "      <td>1.0</td>\n",
       "      <td>0.0</td>\n",
       "      <td>0.0</td>\n",
       "      <td>1.0</td>\n",
       "    </tr>\n",
       "    <tr>\n",
       "      <th>3</th>\n",
       "      <td>Fed Up</td>\n",
       "      <td>2016-11-01T05:22:00.000+02:00</td>\n",
       "      <td>pin drop speech by father of daughter kidnappe...</td>\n",
       "      <td>email kayla mueller was a prisoner and torture...</td>\n",
       "      <td>english</td>\n",
       "      <td>100percentfedup.com</td>\n",
       "      <td>http://100percentfedup.com/wp-content/uploads/...</td>\n",
       "      <td>bias</td>\n",
       "      <td>Real</td>\n",
       "      <td>pin drop speech father daughter kidnapped kill...</td>\n",
       "      <td>email kayla mueller prisoner tortured isis cha...</td>\n",
       "      <td>1.0</td>\n",
       "      <td>0.0</td>\n",
       "      <td>0.0</td>\n",
       "      <td>1.0</td>\n",
       "    </tr>\n",
       "    <tr>\n",
       "      <th>4</th>\n",
       "      <td>Fed Up</td>\n",
       "      <td>2016-11-01T21:56:00.000+02:00</td>\n",
       "      <td>fantastic trumps  point plan to reform healthc...</td>\n",
       "      <td>email healthcare reform to make america great ...</td>\n",
       "      <td>english</td>\n",
       "      <td>100percentfedup.com</td>\n",
       "      <td>http://100percentfedup.com/wp-content/uploads/...</td>\n",
       "      <td>bias</td>\n",
       "      <td>Real</td>\n",
       "      <td>fantastic trumps point plan reform healthcare ...</td>\n",
       "      <td>email healthcare reform make america great sin...</td>\n",
       "      <td>1.0</td>\n",
       "      <td>0.0</td>\n",
       "      <td>0.0</td>\n",
       "      <td>1.0</td>\n",
       "    </tr>\n",
       "    <tr>\n",
       "      <th>5</th>\n",
       "      <td>Barracuda Brigade</td>\n",
       "      <td>2016-11-02T16:31:28.550+02:00</td>\n",
       "      <td>hillary goes absolutely berserk on protester a...</td>\n",
       "      <td>print hillary goes absolutely berserk she expl...</td>\n",
       "      <td>english</td>\n",
       "      <td>100percentfedup.com</td>\n",
       "      <td>http://bb4sp.com/wp-content/uploads/2016/11/Fu...</td>\n",
       "      <td>bias</td>\n",
       "      <td>Real</td>\n",
       "      <td>hillary goes absolutely berserk protester rall...</td>\n",
       "      <td>print hillary goes absolutely berserk explodes...</td>\n",
       "      <td>1.0</td>\n",
       "      <td>0.0</td>\n",
       "      <td>0.0</td>\n",
       "      <td>1.0</td>\n",
       "    </tr>\n",
       "    <tr>\n",
       "      <th>6</th>\n",
       "      <td>Fed Up</td>\n",
       "      <td>2016-11-04T19:40:00.000+02:00</td>\n",
       "      <td>breaking nypd ready to make arrests in weiner ...</td>\n",
       "      <td>breaking nypd ready to make arrests in weiner ...</td>\n",
       "      <td>english</td>\n",
       "      <td>100percentfedup.com</td>\n",
       "      <td>http://100percentfedup.com/wp-content/uploads/...</td>\n",
       "      <td>bias</td>\n",
       "      <td>Real</td>\n",
       "      <td>breaking nypd ready make arrests weiner casehi...</td>\n",
       "      <td>breaking nypd ready make arrests weiner casehi...</td>\n",
       "      <td>1.0</td>\n",
       "      <td>0.0</td>\n",
       "      <td>0.0</td>\n",
       "      <td>1.0</td>\n",
       "    </tr>\n",
       "    <tr>\n",
       "      <th>7</th>\n",
       "      <td>Fed Up</td>\n",
       "      <td>2016-11-05T01:19:00.000+02:00</td>\n",
       "      <td>wow whistleblower tells chilling story of mass...</td>\n",
       "      <td>breaking nypd ready to make arrests in weiner ...</td>\n",
       "      <td>english</td>\n",
       "      <td>100percentfedup.com</td>\n",
       "      <td>http://100percentfedup.com/wp-content/uploads/...</td>\n",
       "      <td>bias</td>\n",
       "      <td>Real</td>\n",
       "      <td>wow whistleblower tells chilling story massive...</td>\n",
       "      <td>breaking nypd ready make arrests weiner casehi...</td>\n",
       "      <td>1.0</td>\n",
       "      <td>0.0</td>\n",
       "      <td>0.0</td>\n",
       "      <td>1.0</td>\n",
       "    </tr>\n",
       "    <tr>\n",
       "      <th>8</th>\n",
       "      <td>Fed Up</td>\n",
       "      <td>2016-11-06T23:54:00.000+02:00</td>\n",
       "      <td>breaking clinton clearedwas this a coordinated...</td>\n",
       "      <td>limbaugh said that the revelations in the wiki...</td>\n",
       "      <td>english</td>\n",
       "      <td>100percentfedup.com</td>\n",
       "      <td>http://100percentfedup.com/wp-content/uploads/...</td>\n",
       "      <td>bias</td>\n",
       "      <td>Real</td>\n",
       "      <td>breaking clinton clearedwas coordinated last m...</td>\n",
       "      <td>limbaugh said revelations wikileaks material s...</td>\n",
       "      <td>1.0</td>\n",
       "      <td>0.0</td>\n",
       "      <td>0.0</td>\n",
       "      <td>1.0</td>\n",
       "    </tr>\n",
       "    <tr>\n",
       "      <th>9</th>\n",
       "      <td>Fed Up</td>\n",
       "      <td>2016-11-07T02:43:00.000+02:00</td>\n",
       "      <td>evil hillary supporters yell fck trumpburn tru...</td>\n",
       "      <td>email \\nthese people are sick and evil they wi...</td>\n",
       "      <td>english</td>\n",
       "      <td>100percentfedup.com</td>\n",
       "      <td>http://100percentfedup.com/wp-content/uploads/...</td>\n",
       "      <td>bias</td>\n",
       "      <td>Real</td>\n",
       "      <td>evil hillary supporters yell fck trumpburn tru...</td>\n",
       "      <td>email people sick evil stop nothing get way la...</td>\n",
       "      <td>1.0</td>\n",
       "      <td>0.0</td>\n",
       "      <td>0.0</td>\n",
       "      <td>1.0</td>\n",
       "    </tr>\n",
       "  </tbody>\n",
       "</table>\n",
       "</div>"
      ],
      "text/plain": [
       "                 Author                      Published  \\\n",
       "0     Barracuda Brigade  2016-10-26T21:41:00.000+03:00   \n",
       "1  reasoning with facts  2016-10-29T08:47:11.259+03:00   \n",
       "2     Barracuda Brigade  2016-10-31T01:41:49.479+02:00   \n",
       "3                Fed Up  2016-11-01T05:22:00.000+02:00   \n",
       "4                Fed Up  2016-11-01T21:56:00.000+02:00   \n",
       "5     Barracuda Brigade  2016-11-02T16:31:28.550+02:00   \n",
       "6                Fed Up  2016-11-04T19:40:00.000+02:00   \n",
       "7                Fed Up  2016-11-05T01:19:00.000+02:00   \n",
       "8                Fed Up  2016-11-06T23:54:00.000+02:00   \n",
       "9                Fed Up  2016-11-07T02:43:00.000+02:00   \n",
       "\n",
       "                                               Title  \\\n",
       "0  muslims busted they stole millions in govt ben...   \n",
       "1  re why did attorney general loretta lynch plea...   \n",
       "2  breaking weiner cooperating with fbi on hillar...   \n",
       "3  pin drop speech by father of daughter kidnappe...   \n",
       "4  fantastic trumps  point plan to reform healthc...   \n",
       "5  hillary goes absolutely berserk on protester a...   \n",
       "6  breaking nypd ready to make arrests in weiner ...   \n",
       "7  wow whistleblower tells chilling story of mass...   \n",
       "8  breaking clinton clearedwas this a coordinated...   \n",
       "9  evil hillary supporters yell fck trumpburn tru...   \n",
       "\n",
       "                                                Text Language  \\\n",
       "0  print they should pay all the back all the mon...  english   \n",
       "1  why did attorney general loretta lynch plead t...  english   \n",
       "2  red state  \\nfox news sunday reported this mor...  english   \n",
       "3  email kayla mueller was a prisoner and torture...  english   \n",
       "4  email healthcare reform to make america great ...  english   \n",
       "5  print hillary goes absolutely berserk she expl...  english   \n",
       "6  breaking nypd ready to make arrests in weiner ...  english   \n",
       "7  breaking nypd ready to make arrests in weiner ...  english   \n",
       "8  limbaugh said that the revelations in the wiki...  english   \n",
       "9  email \\nthese people are sick and evil they wi...  english   \n",
       "\n",
       "              Site_url                                       Main_img_url  \\\n",
       "0  100percentfedup.com  http://bb4sp.com/wp-content/uploads/2016/10/Fu...   \n",
       "1  100percentfedup.com  http://bb4sp.com/wp-content/uploads/2016/10/Fu...   \n",
       "2  100percentfedup.com  http://bb4sp.com/wp-content/uploads/2016/10/Fu...   \n",
       "3  100percentfedup.com  http://100percentfedup.com/wp-content/uploads/...   \n",
       "4  100percentfedup.com  http://100percentfedup.com/wp-content/uploads/...   \n",
       "5  100percentfedup.com  http://bb4sp.com/wp-content/uploads/2016/11/Fu...   \n",
       "6  100percentfedup.com  http://100percentfedup.com/wp-content/uploads/...   \n",
       "7  100percentfedup.com  http://100percentfedup.com/wp-content/uploads/...   \n",
       "8  100percentfedup.com  http://100percentfedup.com/wp-content/uploads/...   \n",
       "9  100percentfedup.com  http://100percentfedup.com/wp-content/uploads/...   \n",
       "\n",
       "   Type Label                            Title_without_stopwords  \\\n",
       "0  bias  Real        muslims busted stole millions govt benefits   \n",
       "1  bias  Real         attorney general loretta lynch plead fifth   \n",
       "2  bias  Real  breaking weiner cooperating fbi hillary email ...   \n",
       "3  bias  Real  pin drop speech father daughter kidnapped kill...   \n",
       "4  bias  Real  fantastic trumps point plan reform healthcare ...   \n",
       "5  bias  Real  hillary goes absolutely berserk protester rall...   \n",
       "6  bias  Real  breaking nypd ready make arrests weiner casehi...   \n",
       "7  bias  Real  wow whistleblower tells chilling story massive...   \n",
       "8  bias  Real  breaking clinton clearedwas coordinated last m...   \n",
       "9  bias  Real  evil hillary supporters yell fck trumpburn tru...   \n",
       "\n",
       "                              Text_without_stopwords  HasImage    0    1    2  \n",
       "0  print pay back money plus interest entire fami...       1.0  0.0  0.0  1.0  \n",
       "1  attorney general loretta lynch plead fifth bar...       1.0  0.0  0.0  1.0  \n",
       "2  red state fox news sunday reported morning ant...       1.0  0.0  0.0  1.0  \n",
       "3  email kayla mueller prisoner tortured isis cha...       1.0  0.0  0.0  1.0  \n",
       "4  email healthcare reform make america great sin...       1.0  0.0  0.0  1.0  \n",
       "5  print hillary goes absolutely berserk explodes...       1.0  0.0  0.0  1.0  \n",
       "6  breaking nypd ready make arrests weiner casehi...       1.0  0.0  0.0  1.0  \n",
       "7  breaking nypd ready make arrests weiner casehi...       1.0  0.0  0.0  1.0  \n",
       "8  limbaugh said revelations wikileaks material s...       1.0  0.0  0.0  1.0  \n",
       "9  email people sick evil stop nothing get way la...       1.0  0.0  0.0  1.0  "
      ]
     },
     "execution_count": 22,
     "metadata": {},
     "output_type": "execute_result"
    }
   ],
   "source": [
    "onehot = OneHotEncoder(sparse_output = False)\n",
    "label_encoded = onehot.fit_transform(df_pre[[\"Label\"]])\n",
    "label_encoded = pd.DataFrame(label_encoded)\n",
    "oneHotEncode = df.join(label_encoded)\n",
    "oneHotEncode.head(10)"
   ]
  }
 ],
 "metadata": {
  "kernelspec": {
   "display_name": "Pranata_077",
   "language": "python",
   "name": "pranata_077"
  },
  "language_info": {
   "codemirror_mode": {
    "name": "ipython",
    "version": 3
   },
   "file_extension": ".py",
   "mimetype": "text/x-python",
   "name": "python",
   "nbconvert_exporter": "python",
   "pygments_lexer": "ipython3",
   "version": "3.10.7"
  }
 },
 "nbformat": 4,
 "nbformat_minor": 5
}
