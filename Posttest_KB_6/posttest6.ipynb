{
 "cells": [
  {
   "cell_type": "markdown",
   "id": "049ee7f2-9135-4bd9-b6f1-0de8f3e481f8",
   "metadata": {},
   "source": [
    "# Pranata Eka Pramudya\n",
    "# 2109106077\n",
    "### Posttest 6 \n",
    "Dataset yang saya gunakan : *https://www.kaggle.com/datasets/mexwell/boxing-matches*"
   ]
  },
  {
   "cell_type": "markdown",
   "id": "6aded8cb-f9a6-44e7-afab-ddeafe2d5c7e",
   "metadata": {},
   "source": [
    "### Import Dataset"
   ]
  },
  {
   "cell_type": "code",
   "execution_count": 1,
   "id": "0ba4ec02-94c8-48cf-aa1c-de89534d1874",
   "metadata": {},
   "outputs": [
    {
     "data": {
      "text/html": [
       "<div>\n",
       "<style scoped>\n",
       "    .dataframe tbody tr th:only-of-type {\n",
       "        vertical-align: middle;\n",
       "    }\n",
       "\n",
       "    .dataframe tbody tr th {\n",
       "        vertical-align: top;\n",
       "    }\n",
       "\n",
       "    .dataframe thead th {\n",
       "        text-align: right;\n",
       "    }\n",
       "</style>\n",
       "<table border=\"1\" class=\"dataframe\">\n",
       "  <thead>\n",
       "    <tr style=\"text-align: right;\">\n",
       "      <th></th>\n",
       "      <th>age_A</th>\n",
       "      <th>age_B</th>\n",
       "      <th>height_A</th>\n",
       "      <th>height_B</th>\n",
       "      <th>reach_A</th>\n",
       "      <th>reach_B</th>\n",
       "      <th>stance_A</th>\n",
       "      <th>stance_B</th>\n",
       "      <th>weight_A</th>\n",
       "      <th>weight_B</th>\n",
       "      <th>...</th>\n",
       "      <th>kos_A</th>\n",
       "      <th>kos_B</th>\n",
       "      <th>result</th>\n",
       "      <th>decision</th>\n",
       "      <th>judge1_A</th>\n",
       "      <th>judge1_B</th>\n",
       "      <th>judge2_A</th>\n",
       "      <th>judge2_B</th>\n",
       "      <th>judge3_A</th>\n",
       "      <th>judge3_B</th>\n",
       "    </tr>\n",
       "  </thead>\n",
       "  <tbody>\n",
       "    <tr>\n",
       "      <th>0</th>\n",
       "      <td>35.0</td>\n",
       "      <td>27.0</td>\n",
       "      <td>179.0</td>\n",
       "      <td>175.0</td>\n",
       "      <td>178.0</td>\n",
       "      <td>179.0</td>\n",
       "      <td>orthodox</td>\n",
       "      <td>orthodox</td>\n",
       "      <td>160.0</td>\n",
       "      <td>160.0</td>\n",
       "      <td>...</td>\n",
       "      <td>33</td>\n",
       "      <td>34.0</td>\n",
       "      <td>draw</td>\n",
       "      <td>SD</td>\n",
       "      <td>110.0</td>\n",
       "      <td>118.0</td>\n",
       "      <td>115.0</td>\n",
       "      <td>113.0</td>\n",
       "      <td>114.0</td>\n",
       "      <td>114.0</td>\n",
       "    </tr>\n",
       "    <tr>\n",
       "      <th>1</th>\n",
       "      <td>26.0</td>\n",
       "      <td>31.0</td>\n",
       "      <td>175.0</td>\n",
       "      <td>185.0</td>\n",
       "      <td>179.0</td>\n",
       "      <td>185.0</td>\n",
       "      <td>orthodox</td>\n",
       "      <td>orthodox</td>\n",
       "      <td>164.0</td>\n",
       "      <td>164.0</td>\n",
       "      <td>...</td>\n",
       "      <td>34</td>\n",
       "      <td>32.0</td>\n",
       "      <td>win_A</td>\n",
       "      <td>UD</td>\n",
       "      <td>120.0</td>\n",
       "      <td>108.0</td>\n",
       "      <td>120.0</td>\n",
       "      <td>108.0</td>\n",
       "      <td>120.0</td>\n",
       "      <td>108.0</td>\n",
       "    </tr>\n",
       "    <tr>\n",
       "      <th>2</th>\n",
       "      <td>28.0</td>\n",
       "      <td>26.0</td>\n",
       "      <td>176.0</td>\n",
       "      <td>175.0</td>\n",
       "      <td>NaN</td>\n",
       "      <td>179.0</td>\n",
       "      <td>orthodox</td>\n",
       "      <td>orthodox</td>\n",
       "      <td>154.0</td>\n",
       "      <td>154.0</td>\n",
       "      <td>...</td>\n",
       "      <td>13</td>\n",
       "      <td>33.0</td>\n",
       "      <td>win_B</td>\n",
       "      <td>KO</td>\n",
       "      <td>NaN</td>\n",
       "      <td>NaN</td>\n",
       "      <td>NaN</td>\n",
       "      <td>NaN</td>\n",
       "      <td>NaN</td>\n",
       "      <td>NaN</td>\n",
       "    </tr>\n",
       "    <tr>\n",
       "      <th>3</th>\n",
       "      <td>25.0</td>\n",
       "      <td>29.0</td>\n",
       "      <td>175.0</td>\n",
       "      <td>174.0</td>\n",
       "      <td>179.0</td>\n",
       "      <td>180.0</td>\n",
       "      <td>orthodox</td>\n",
       "      <td>orthodox</td>\n",
       "      <td>155.0</td>\n",
       "      <td>155.0</td>\n",
       "      <td>...</td>\n",
       "      <td>32</td>\n",
       "      <td>19.0</td>\n",
       "      <td>win_A</td>\n",
       "      <td>KO</td>\n",
       "      <td>47.0</td>\n",
       "      <td>48.0</td>\n",
       "      <td>49.0</td>\n",
       "      <td>46.0</td>\n",
       "      <td>48.0</td>\n",
       "      <td>47.0</td>\n",
       "    </tr>\n",
       "    <tr>\n",
       "      <th>4</th>\n",
       "      <td>25.0</td>\n",
       "      <td>35.0</td>\n",
       "      <td>175.0</td>\n",
       "      <td>170.0</td>\n",
       "      <td>179.0</td>\n",
       "      <td>170.0</td>\n",
       "      <td>orthodox</td>\n",
       "      <td>orthodox</td>\n",
       "      <td>155.0</td>\n",
       "      <td>NaN</td>\n",
       "      <td>...</td>\n",
       "      <td>32</td>\n",
       "      <td>33.0</td>\n",
       "      <td>win_A</td>\n",
       "      <td>UD</td>\n",
       "      <td>118.0</td>\n",
       "      <td>110.0</td>\n",
       "      <td>119.0</td>\n",
       "      <td>109.0</td>\n",
       "      <td>117.0</td>\n",
       "      <td>111.0</td>\n",
       "    </tr>\n",
       "    <tr>\n",
       "      <th>...</th>\n",
       "      <td>...</td>\n",
       "      <td>...</td>\n",
       "      <td>...</td>\n",
       "      <td>...</td>\n",
       "      <td>...</td>\n",
       "      <td>...</td>\n",
       "      <td>...</td>\n",
       "      <td>...</td>\n",
       "      <td>...</td>\n",
       "      <td>...</td>\n",
       "      <td>...</td>\n",
       "      <td>...</td>\n",
       "      <td>...</td>\n",
       "      <td>...</td>\n",
       "      <td>...</td>\n",
       "      <td>...</td>\n",
       "      <td>...</td>\n",
       "      <td>...</td>\n",
       "      <td>...</td>\n",
       "      <td>...</td>\n",
       "      <td>...</td>\n",
       "    </tr>\n",
       "    <tr>\n",
       "      <th>387422</th>\n",
       "      <td>20.0</td>\n",
       "      <td>NaN</td>\n",
       "      <td>NaN</td>\n",
       "      <td>NaN</td>\n",
       "      <td>NaN</td>\n",
       "      <td>NaN</td>\n",
       "      <td>orthodox</td>\n",
       "      <td>orthodox</td>\n",
       "      <td>NaN</td>\n",
       "      <td>NaN</td>\n",
       "      <td>...</td>\n",
       "      <td>19</td>\n",
       "      <td>0.0</td>\n",
       "      <td>win_A</td>\n",
       "      <td>KO</td>\n",
       "      <td>NaN</td>\n",
       "      <td>NaN</td>\n",
       "      <td>NaN</td>\n",
       "      <td>NaN</td>\n",
       "      <td>NaN</td>\n",
       "      <td>NaN</td>\n",
       "    </tr>\n",
       "    <tr>\n",
       "      <th>387423</th>\n",
       "      <td>20.0</td>\n",
       "      <td>NaN</td>\n",
       "      <td>NaN</td>\n",
       "      <td>NaN</td>\n",
       "      <td>NaN</td>\n",
       "      <td>NaN</td>\n",
       "      <td>orthodox</td>\n",
       "      <td>orthodox</td>\n",
       "      <td>NaN</td>\n",
       "      <td>NaN</td>\n",
       "      <td>...</td>\n",
       "      <td>19</td>\n",
       "      <td>2.0</td>\n",
       "      <td>win_A</td>\n",
       "      <td>PTS</td>\n",
       "      <td>NaN</td>\n",
       "      <td>NaN</td>\n",
       "      <td>NaN</td>\n",
       "      <td>NaN</td>\n",
       "      <td>NaN</td>\n",
       "      <td>NaN</td>\n",
       "    </tr>\n",
       "    <tr>\n",
       "      <th>387424</th>\n",
       "      <td>20.0</td>\n",
       "      <td>26.0</td>\n",
       "      <td>NaN</td>\n",
       "      <td>NaN</td>\n",
       "      <td>NaN</td>\n",
       "      <td>NaN</td>\n",
       "      <td>orthodox</td>\n",
       "      <td>orthodox</td>\n",
       "      <td>NaN</td>\n",
       "      <td>NaN</td>\n",
       "      <td>...</td>\n",
       "      <td>18</td>\n",
       "      <td>3.0</td>\n",
       "      <td>win_A</td>\n",
       "      <td>TKO</td>\n",
       "      <td>NaN</td>\n",
       "      <td>NaN</td>\n",
       "      <td>NaN</td>\n",
       "      <td>NaN</td>\n",
       "      <td>NaN</td>\n",
       "      <td>NaN</td>\n",
       "    </tr>\n",
       "    <tr>\n",
       "      <th>387425</th>\n",
       "      <td>20.0</td>\n",
       "      <td>NaN</td>\n",
       "      <td>NaN</td>\n",
       "      <td>NaN</td>\n",
       "      <td>NaN</td>\n",
       "      <td>NaN</td>\n",
       "      <td>orthodox</td>\n",
       "      <td>orthodox</td>\n",
       "      <td>NaN</td>\n",
       "      <td>NaN</td>\n",
       "      <td>...</td>\n",
       "      <td>17</td>\n",
       "      <td>0.0</td>\n",
       "      <td>win_A</td>\n",
       "      <td>TKO</td>\n",
       "      <td>NaN</td>\n",
       "      <td>NaN</td>\n",
       "      <td>NaN</td>\n",
       "      <td>NaN</td>\n",
       "      <td>NaN</td>\n",
       "      <td>NaN</td>\n",
       "    </tr>\n",
       "    <tr>\n",
       "      <th>387426</th>\n",
       "      <td>20.0</td>\n",
       "      <td>NaN</td>\n",
       "      <td>NaN</td>\n",
       "      <td>NaN</td>\n",
       "      <td>NaN</td>\n",
       "      <td>NaN</td>\n",
       "      <td>orthodox</td>\n",
       "      <td>orthodox</td>\n",
       "      <td>NaN</td>\n",
       "      <td>NaN</td>\n",
       "      <td>...</td>\n",
       "      <td>16</td>\n",
       "      <td>0.0</td>\n",
       "      <td>win_A</td>\n",
       "      <td>KO</td>\n",
       "      <td>NaN</td>\n",
       "      <td>NaN</td>\n",
       "      <td>NaN</td>\n",
       "      <td>NaN</td>\n",
       "      <td>NaN</td>\n",
       "      <td>NaN</td>\n",
       "    </tr>\n",
       "  </tbody>\n",
       "</table>\n",
       "<p>387427 rows × 26 columns</p>\n",
       "</div>"
      ],
      "text/plain": [
       "        age_A  age_B  height_A  height_B  reach_A  reach_B  stance_A  \\\n",
       "0        35.0   27.0     179.0     175.0    178.0    179.0  orthodox   \n",
       "1        26.0   31.0     175.0     185.0    179.0    185.0  orthodox   \n",
       "2        28.0   26.0     176.0     175.0      NaN    179.0  orthodox   \n",
       "3        25.0   29.0     175.0     174.0    179.0    180.0  orthodox   \n",
       "4        25.0   35.0     175.0     170.0    179.0    170.0  orthodox   \n",
       "...       ...    ...       ...       ...      ...      ...       ...   \n",
       "387422   20.0    NaN       NaN       NaN      NaN      NaN  orthodox   \n",
       "387423   20.0    NaN       NaN       NaN      NaN      NaN  orthodox   \n",
       "387424   20.0   26.0       NaN       NaN      NaN      NaN  orthodox   \n",
       "387425   20.0    NaN       NaN       NaN      NaN      NaN  orthodox   \n",
       "387426   20.0    NaN       NaN       NaN      NaN      NaN  orthodox   \n",
       "\n",
       "        stance_B  weight_A  weight_B  ...  kos_A  kos_B  result  decision  \\\n",
       "0       orthodox     160.0     160.0  ...     33   34.0    draw        SD   \n",
       "1       orthodox     164.0     164.0  ...     34   32.0   win_A        UD   \n",
       "2       orthodox     154.0     154.0  ...     13   33.0   win_B        KO   \n",
       "3       orthodox     155.0     155.0  ...     32   19.0   win_A        KO   \n",
       "4       orthodox     155.0       NaN  ...     32   33.0   win_A        UD   \n",
       "...          ...       ...       ...  ...    ...    ...     ...       ...   \n",
       "387422  orthodox       NaN       NaN  ...     19    0.0   win_A        KO   \n",
       "387423  orthodox       NaN       NaN  ...     19    2.0   win_A       PTS   \n",
       "387424  orthodox       NaN       NaN  ...     18    3.0   win_A       TKO   \n",
       "387425  orthodox       NaN       NaN  ...     17    0.0   win_A       TKO   \n",
       "387426  orthodox       NaN       NaN  ...     16    0.0   win_A        KO   \n",
       "\n",
       "        judge1_A  judge1_B  judge2_A  judge2_B judge3_A judge3_B  \n",
       "0          110.0     118.0     115.0     113.0    114.0    114.0  \n",
       "1          120.0     108.0     120.0     108.0    120.0    108.0  \n",
       "2            NaN       NaN       NaN       NaN      NaN      NaN  \n",
       "3           47.0      48.0      49.0      46.0     48.0     47.0  \n",
       "4          118.0     110.0     119.0     109.0    117.0    111.0  \n",
       "...          ...       ...       ...       ...      ...      ...  \n",
       "387422       NaN       NaN       NaN       NaN      NaN      NaN  \n",
       "387423       NaN       NaN       NaN       NaN      NaN      NaN  \n",
       "387424       NaN       NaN       NaN       NaN      NaN      NaN  \n",
       "387425       NaN       NaN       NaN       NaN      NaN      NaN  \n",
       "387426       NaN       NaN       NaN       NaN      NaN      NaN  \n",
       "\n",
       "[387427 rows x 26 columns]"
      ]
     },
     "execution_count": 1,
     "metadata": {},
     "output_type": "execute_result"
    }
   ],
   "source": [
    "import pandas as pd\n",
    "import numpy as np\n",
    "df = pd.read_csv('boxing_matches.csv')\n",
    "df"
   ]
  },
  {
   "cell_type": "markdown",
   "id": "d56ad63a-dfa4-4da8-b800-2f5a9f9c592f",
   "metadata": {},
   "source": [
    "## Data Preprocessing"
   ]
  },
  {
   "cell_type": "markdown",
   "id": "b6220ab0-7dcb-43ad-af13-3ca8c3a6150d",
   "metadata": {},
   "source": [
    "#### Data Cleaning \n",
    "Membersihkan nilai null pada dataset menggunakan strategy **most_frequent**"
   ]
  },
  {
   "cell_type": "code",
   "execution_count": 2,
   "id": "b1a92d42-3349-4f95-9d41-ac347fd20668",
   "metadata": {},
   "outputs": [],
   "source": [
    "from sklearn.impute import SimpleImputer\n",
    "\n",
    "imputer = SimpleImputer(strategy = 'most_frequent')\n",
    "df[['age_A']] = imputer.fit_transform(df[['age_A']])\n",
    "df[['age_B']] = imputer.fit_transform(df[['age_B']])\n",
    "df[['height_A']] = imputer.fit_transform(df[['height_A']])\n",
    "df[['height_B']] = imputer.fit_transform(df[['height_B']])\n",
    "df[['reach_A']] = imputer.fit_transform(df[['reach_A']])\n",
    "df[['reach_B']] = imputer.fit_transform(df[['reach_B']])\n",
    "df[['stance_A']] = imputer.fit_transform(df[['stance_A']])\n",
    "df[['stance_B']] = imputer.fit_transform(df[['stance_B']])\n",
    "df[['weight_A']] = imputer.fit_transform(df[['weight_A']])\n",
    "df[['weight_B']] = imputer.fit_transform(df[['weight_B']])\n",
    "df[['kos_B']] = imputer.fit_transform(df[['kos_B']])\n",
    "df[['judge1_A']] = imputer.fit_transform(df[['judge1_A']])\n",
    "df[['judge1_B']] = imputer.fit_transform(df[['judge1_B']])\n",
    "df[['judge2_A']] = imputer.fit_transform(df[['judge2_A']])\n",
    "df[['judge2_B']] = imputer.fit_transform(df[['judge2_B']])\n",
    "df[['judge3_A']] = imputer.fit_transform(df[['judge3_A']])\n",
    "df[['judge3_B']] = imputer.fit_transform(df[['judge3_B']])"
   ]
  },
  {
   "cell_type": "code",
   "execution_count": 3,
   "id": "86f91e2e-59ed-45a6-9da3-436328b54add",
   "metadata": {},
   "outputs": [
    {
     "data": {
      "text/plain": [
       "age_A       0\n",
       "age_B       0\n",
       "height_A    0\n",
       "height_B    0\n",
       "reach_A     0\n",
       "reach_B     0\n",
       "stance_A    0\n",
       "stance_B    0\n",
       "weight_A    0\n",
       "weight_B    0\n",
       "won_A       0\n",
       "won_B       0\n",
       "lost_A      0\n",
       "lost_B      0\n",
       "drawn_A     0\n",
       "drawn_B     0\n",
       "kos_A       0\n",
       "kos_B       0\n",
       "result      0\n",
       "decision    0\n",
       "judge1_A    0\n",
       "judge1_B    0\n",
       "judge2_A    0\n",
       "judge2_B    0\n",
       "judge3_A    0\n",
       "judge3_B    0\n",
       "dtype: int64"
      ]
     },
     "execution_count": 3,
     "metadata": {},
     "output_type": "execute_result"
    }
   ],
   "source": [
    "df.isna().sum()"
   ]
  },
  {
   "cell_type": "markdown",
   "id": "c8e7394e-52e3-4213-98c2-f3ee6ba6fa48",
   "metadata": {},
   "source": [
    "#### Membersihkan Data Duplikat"
   ]
  },
  {
   "cell_type": "code",
   "execution_count": 4,
   "id": "9bf951bc-f2e0-4de7-bba2-ca3adc680b4d",
   "metadata": {},
   "outputs": [],
   "source": [
    "df.drop_duplicates(inplace = True)"
   ]
  },
  {
   "cell_type": "code",
   "execution_count": 5,
   "id": "b5f35d9e-95a5-46ef-8cd9-acd311e229ba",
   "metadata": {},
   "outputs": [
    {
     "data": {
      "text/plain": [
       "0"
      ]
     },
     "execution_count": 5,
     "metadata": {},
     "output_type": "execute_result"
    }
   ],
   "source": [
    "df.duplicated().sum()"
   ]
  },
  {
   "cell_type": "markdown",
   "id": "ab13596c-b83d-4918-9cac-fbcc9cc35956",
   "metadata": {},
   "source": [
    "#### Normalisasi\n",
    "Normalisasi data pada semua atribut karena semuanya memiliki rentang nilai yang jauh"
   ]
  },
  {
   "cell_type": "code",
   "execution_count": 6,
   "id": "18d13016-e415-46de-813f-ae9d08966670",
   "metadata": {},
   "outputs": [],
   "source": [
    "from sklearn.preprocessing import MinMaxScaler\n",
    "MinMax = MinMaxScaler()\n",
    "df[['age_A','age_B','height_A','height_B','reach_A','reach_B','weight_A','weight_B','won_A','won_B','lost_A','lost_B','drawn_A','drawn_B','kos_A','kos_B','judge1_A','judge1_B','judge2_A','judge2_B','judge3_A','judge3_B']] = MinMax.fit_transform(df[['age_A','age_B','height_A','height_B','reach_A','reach_B','weight_A','weight_B','won_A','won_B','lost_A','lost_B','drawn_A','drawn_B','kos_A','kos_B','judge1_A','judge1_B','judge2_A','judge2_B','judge3_A','judge3_B']])"
   ]
  },
  {
   "cell_type": "markdown",
   "id": "85d89aa1-854f-433d-8020-023f090ea1a5",
   "metadata": {},
   "source": [
    "#### Ordinal Encoding\n",
    "Melakukan Ordinal Encoding pada atribut **result** dan **decision**"
   ]
  },
  {
   "cell_type": "code",
   "execution_count": 7,
   "id": "010fd0ef-0f14-4d3d-8d1f-41aaf1fbf2a2",
   "metadata": {},
   "outputs": [],
   "source": [
    "from sklearn.preprocessing import OrdinalEncoder\n",
    "\n",
    "ordinal = OrdinalEncoder()\n",
    "df[\"result\"] = ordinal.fit_transform(df[[\"result\"]])\n",
    "df[\"decision\"] = ordinal.fit_transform(df[[\"decision\"]])"
   ]
  },
  {
   "cell_type": "markdown",
   "id": "0de5e553-bc74-42e1-bf61-ffc10919c9b3",
   "metadata": {},
   "source": [
    "#### Membagi dataset menjadi **Train** dan **Test**\n",
    "Dataset dibagi menjadi 2 dengan proporsi 70% untuk Train Size dan 30 % untuk Test Size\n",
    "Random_state digunakan agar saat melakukan perulangan dalam pelatihan data tetap konsisten"
   ]
  },
  {
   "cell_type": "code",
   "execution_count": 8,
   "id": "4e5dd7ee-2679-492c-9897-e4a840671f55",
   "metadata": {},
   "outputs": [],
   "source": [
    "from sklearn.model_selection import train_test_split\n",
    "\n",
    "X = df[['age_A','age_B','height_A','height_B','reach_A','reach_B','weight_A','weight_B','won_A','won_B','lost_A','lost_B','drawn_A','drawn_B','kos_A','kos_B','decision','judge1_A','judge1_B','judge2_A','judge2_B','judge3_A','judge3_B']]\n",
    "y = df['result']\n",
    "\n",
    "X_train, X_test, y_train, y_test = train_test_split(X, y, test_size=0.3, random_state=15)"
   ]
  },
  {
   "cell_type": "markdown",
   "id": "f82889fa-3c70-49a0-a97c-4a998862c498",
   "metadata": {},
   "source": [
    "#### Sequential Model\n",
    "Menggunakan Activation Function relu pada hidden layer dan mengguanakan Activation Function Softmax karena kelas pada output lebih dari dua kelas dan menggunakan loss **sparse_categorical_crossentropy** karena target telah dilakukan Ordinal Encoding"
   ]
  },
  {
   "cell_type": "code",
   "execution_count": 9,
   "id": "a0417d13-5296-4dbe-b10d-3b0224ae7380",
   "metadata": {},
   "outputs": [],
   "source": [
    "import tensorflow as tf\n",
    "from tensorflow.keras import Sequential, layers, callbacks\n",
    "\n",
    "model = Sequential([\n",
    "    layers.Dense(16, activation='relu', input_shape=[23]),\n",
    "    layers.Dense(32, activation='relu'),\n",
    "    layers.Dense(3, activation='softmax')\n",
    "])\n",
    "\n",
    "model.compile(\n",
    "    optimizer='adam', \n",
    "    loss='sparse_categorical_crossentropy',\n",
    "    metrics=['accuracy']\n",
    ")"
   ]
  },
  {
   "cell_type": "markdown",
   "id": "b858086d-7a2b-4e6a-9ce8-89f5f07e1d23",
   "metadata": {},
   "source": [
    "#### Callback\n",
    "Penggunaan callback untuk menghindari terjadinya overfitting dengan menggunakan **Early Stopping** dalam variabel es. Callback digunakan apabila pada **Val_accuracy** tidak ada kenaikan performa dalam 5 kali iterasi, maka train akan dihentikan dan mengembalikan nilai **restore_best_weights** pada iterasi latihan terbaik."
   ]
  },
  {
   "cell_type": "code",
   "execution_count": 10,
   "id": "7873dd10-d12d-4c0b-9fe4-d02755e413b8",
   "metadata": {},
   "outputs": [],
   "source": [
    "es = callbacks.EarlyStopping(\n",
    "    monitor='val_accuracy',\n",
    "    patience=5,\n",
    "    verbose=1,\n",
    "    restore_best_weights = True\n",
    ")"
   ]
  },
  {
   "cell_type": "markdown",
   "id": "67e86640-65fb-4142-9116-bbf9f4ccea9e",
   "metadata": {},
   "source": [
    "#### Melatih Model DNN \n",
    "Melakukan latihan dengan data train dan validation split sebesar 30 % dan epochs sebanyak 1000."
   ]
  },
  {
   "cell_type": "code",
   "execution_count": 11,
   "id": "2cfb4af9-b664-4dce-b3ac-04cbfff9b36a",
   "metadata": {},
   "outputs": [
    {
     "name": "stdout",
     "output_type": "stream",
     "text": [
      "Model: \"sequential\"\n",
      "_________________________________________________________________\n",
      " Layer (type)                Output Shape              Param #   \n",
      "=================================================================\n",
      " dense (Dense)               (None, 16)                384       \n",
      "                                                                 \n",
      " dense_1 (Dense)             (None, 32)                544       \n",
      "                                                                 \n",
      " dense_2 (Dense)             (None, 3)                 99        \n",
      "                                                                 \n",
      "=================================================================\n",
      "Total params: 1027 (4.01 KB)\n",
      "Trainable params: 1027 (4.01 KB)\n",
      "Non-trainable params: 0 (0.00 Byte)\n",
      "_________________________________________________________________\n"
     ]
    }
   ],
   "source": [
    "model.summary()"
   ]
  },
  {
   "cell_type": "code",
   "execution_count": 12,
   "id": "1740807c-84d4-4afa-81b6-ff5c69a46f7f",
   "metadata": {},
   "outputs": [
    {
     "name": "stdout",
     "output_type": "stream",
     "text": [
      "Epoch 1/100\n",
      "6974/6974 [==============================] - 17s 2ms/step - loss: 0.4986 - accuracy: 0.8281 - val_loss: 0.4731 - val_accuracy: 0.8305\n",
      "Epoch 2/100\n",
      "6974/6974 [==============================] - 16s 2ms/step - loss: 0.4702 - accuracy: 0.8300 - val_loss: 0.4576 - val_accuracy: 0.8314\n",
      "Epoch 3/100\n",
      "6974/6974 [==============================] - 16s 2ms/step - loss: 0.4609 - accuracy: 0.8305 - val_loss: 0.4501 - val_accuracy: 0.8321\n",
      "Epoch 4/100\n",
      "6974/6974 [==============================] - 16s 2ms/step - loss: 0.4531 - accuracy: 0.8315 - val_loss: 0.4459 - val_accuracy: 0.8323\n",
      "Epoch 5/100\n",
      "6974/6974 [==============================] - 16s 2ms/step - loss: 0.4484 - accuracy: 0.8318 - val_loss: 0.4405 - val_accuracy: 0.8333\n",
      "Epoch 6/100\n",
      "6974/6974 [==============================] - 16s 2ms/step - loss: 0.4446 - accuracy: 0.8330 - val_loss: 0.4426 - val_accuracy: 0.8334\n",
      "Epoch 7/100\n",
      "6974/6974 [==============================] - 16s 2ms/step - loss: 0.4422 - accuracy: 0.8338 - val_loss: 0.4415 - val_accuracy: 0.8379\n",
      "Epoch 8/100\n",
      "6974/6974 [==============================] - 16s 2ms/step - loss: 0.4395 - accuracy: 0.8348 - val_loss: 0.4391 - val_accuracy: 0.8347\n",
      "Epoch 9/100\n",
      "6974/6974 [==============================] - 16s 2ms/step - loss: 0.4372 - accuracy: 0.8361 - val_loss: 0.4313 - val_accuracy: 0.8369\n",
      "Epoch 10/100\n",
      "6974/6974 [==============================] - 16s 2ms/step - loss: 0.4359 - accuracy: 0.8367 - val_loss: 0.4280 - val_accuracy: 0.8409\n",
      "Epoch 11/100\n",
      "6974/6974 [==============================] - 16s 2ms/step - loss: 0.4340 - accuracy: 0.8375 - val_loss: 0.4245 - val_accuracy: 0.8404\n",
      "Epoch 12/100\n",
      "6974/6974 [==============================] - 16s 2ms/step - loss: 0.4325 - accuracy: 0.8384 - val_loss: 0.4292 - val_accuracy: 0.8415\n",
      "Epoch 13/100\n",
      "6974/6974 [==============================] - 16s 2ms/step - loss: 0.4317 - accuracy: 0.8388 - val_loss: 0.4236 - val_accuracy: 0.8423\n",
      "Epoch 14/100\n",
      "6974/6974 [==============================] - 16s 2ms/step - loss: 0.4298 - accuracy: 0.8397 - val_loss: 0.4278 - val_accuracy: 0.8399\n",
      "Epoch 15/100\n",
      "6974/6974 [==============================] - 16s 2ms/step - loss: 0.4293 - accuracy: 0.8401 - val_loss: 0.4244 - val_accuracy: 0.8394\n",
      "Epoch 16/100\n",
      "6974/6974 [==============================] - 16s 2ms/step - loss: 0.4281 - accuracy: 0.8403 - val_loss: 0.4325 - val_accuracy: 0.8388\n",
      "Epoch 17/100\n",
      "6974/6974 [==============================] - 16s 2ms/step - loss: 0.4270 - accuracy: 0.8405 - val_loss: 0.4188 - val_accuracy: 0.8429\n",
      "Epoch 18/100\n",
      "6974/6974 [==============================] - 16s 2ms/step - loss: 0.4264 - accuracy: 0.8412 - val_loss: 0.4195 - val_accuracy: 0.8442\n",
      "Epoch 19/100\n",
      "6974/6974 [==============================] - 16s 2ms/step - loss: 0.4246 - accuracy: 0.8414 - val_loss: 0.4208 - val_accuracy: 0.8448\n",
      "Epoch 20/100\n",
      "6974/6974 [==============================] - 16s 2ms/step - loss: 0.4239 - accuracy: 0.8417 - val_loss: 0.4217 - val_accuracy: 0.8407\n",
      "Epoch 21/100\n",
      "6974/6974 [==============================] - 16s 2ms/step - loss: 0.4232 - accuracy: 0.8420 - val_loss: 0.4261 - val_accuracy: 0.8412\n",
      "Epoch 22/100\n",
      "6974/6974 [==============================] - 16s 2ms/step - loss: 0.4224 - accuracy: 0.8425 - val_loss: 0.4165 - val_accuracy: 0.8439\n",
      "Epoch 23/100\n",
      "6974/6974 [==============================] - 16s 2ms/step - loss: 0.4209 - accuracy: 0.8428 - val_loss: 0.4135 - val_accuracy: 0.8461\n",
      "Epoch 24/100\n",
      "6974/6974 [==============================] - 16s 2ms/step - loss: 0.4205 - accuracy: 0.8431 - val_loss: 0.4151 - val_accuracy: 0.8455\n",
      "Epoch 25/100\n",
      "6974/6974 [==============================] - 16s 2ms/step - loss: 0.4196 - accuracy: 0.8434 - val_loss: 0.4194 - val_accuracy: 0.8474\n",
      "Epoch 26/100\n",
      "6974/6974 [==============================] - 16s 2ms/step - loss: 0.4192 - accuracy: 0.8432 - val_loss: 0.4135 - val_accuracy: 0.8460\n",
      "Epoch 27/100\n",
      "6974/6974 [==============================] - 16s 2ms/step - loss: 0.4185 - accuracy: 0.8438 - val_loss: 0.4159 - val_accuracy: 0.8449\n",
      "Epoch 28/100\n",
      "6974/6974 [==============================] - 16s 2ms/step - loss: 0.4181 - accuracy: 0.8441 - val_loss: 0.4144 - val_accuracy: 0.8457\n",
      "Epoch 29/100\n",
      "6974/6974 [==============================] - 16s 2ms/step - loss: 0.4169 - accuracy: 0.8443 - val_loss: 0.4162 - val_accuracy: 0.8448\n",
      "Epoch 30/100\n",
      "6952/6974 [============================>.] - ETA: 0s - loss: 0.4167 - accuracy: 0.8441Restoring model weights from the end of the best epoch: 25.\n",
      "6974/6974 [==============================] - 16s 2ms/step - loss: 0.4166 - accuracy: 0.8441 - val_loss: 0.4122 - val_accuracy: 0.8469\n",
      "Epoch 30: early stopping\n"
     ]
    }
   ],
   "source": [
    "history = model.fit(X_train, y_train, epochs=100, validation_split=0.3,batch_size = 25, verbose=1, callbacks=[es])"
   ]
  },
  {
   "cell_type": "markdown",
   "id": "df743b16-f47e-4b7a-9dc8-e803eaa43e57",
   "metadata": {},
   "source": [
    "#### Evaluasi Model\n",
    "Model yang telah dilatih akan dievaluasi dengan mengembalikan nilai loss."
   ]
  },
  {
   "cell_type": "code",
   "execution_count": 13,
   "id": "1b48a821-4d21-4c53-af22-648656c3a692",
   "metadata": {},
   "outputs": [
    {
     "name": "stdout",
     "output_type": "stream",
     "text": [
      "3336/3336 [==============================] - 5s 2ms/step - loss: 0.4205 - accuracy: 0.8457\n"
     ]
    },
    {
     "data": {
      "text/plain": [
       "[0.4204613268375397, 0.845650851726532]"
      ]
     },
     "execution_count": 13,
     "metadata": {},
     "output_type": "execute_result"
    }
   ],
   "source": [
    "model.evaluate(X_test, y_test)"
   ]
  },
  {
   "cell_type": "markdown",
   "id": "a9273e2d-2873-4aac-a635-0c25da8eac88",
   "metadata": {},
   "source": [
    "### Grafik Akurasi"
   ]
  },
  {
   "cell_type": "code",
   "execution_count": 14,
   "id": "94a07269-92f9-4baf-bba6-8d6369a77b84",
   "metadata": {},
   "outputs": [],
   "source": [
    "training_accuracy = history.history['accuracy']\n",
    "validation_accuracy = history.history['val_accuracy']"
   ]
  },
  {
   "cell_type": "code",
   "execution_count": 15,
   "id": "94f34a81-c454-4afe-8ca0-ce9dfdcc30f0",
   "metadata": {},
   "outputs": [
    {
     "data": {
      "image/png": "[encoded data removed]",
      "text/plain": [
       "<Figure size 1200x500 with 1 Axes>"
      ]
     },
     "metadata": {},
     "output_type": "display_data"
    }
   ],
   "source": [
    "import matplotlib.pyplot as plt\n",
    "\n",
    "plt.figure(figsize=(12, 5))\n",
    "plt.plot(range(1, len(training_accuracy) + 1), training_accuracy, label='Training Accuracy', color='blue')\n",
    "plt.plot(range(1, len(validation_accuracy) + 1), validation_accuracy, label='Validation Accuracy',  color='red')\n",
    "plt.title('Training and Validation Accuracy')\n",
    "plt.xlabel('Epochs')\n",
    "plt.ylabel('Accuracy')\n",
    "plt.legend()\n",
    "plt.show()"
   ]
  },
  {
   "cell_type": "markdown",
   "id": "cf952c0f-8d84-4743-bee6-f9eb18fa9586",
   "metadata": {},
   "source": [
    "### Grafik Loss"
   ]
  },
  {
   "cell_type": "code",
   "execution_count": 16,
   "id": "9a3d440d-de57-4827-8a89-03e52d0bfcac",
   "metadata": {},
   "outputs": [],
   "source": [
    "training_loss = history.history['loss']\n",
    "validation_loss = history.history['val_loss']"
   ]
  },
  {
   "cell_type": "code",
   "execution_count": 17,
   "id": "12ec1d07-009c-4a39-92a5-79ac45a3caff",
   "metadata": {},
   "outputs": [
    {
     "data": {
      "image/png": "[encoded data removed]",
      "text/plain": [
       "<Figure size 1200x500 with 1 Axes>"
      ]
     },
     "metadata": {},
     "output_type": "display_data"
    }
   ],
   "source": [
    "plt.figure(figsize=(12, 5))\n",
    "plt.plot(range(1, len(training_loss) + 1), training_loss, label='Training Loss', color='blue')\n",
    "plt.plot(range(1, len(validation_loss) + 1), validation_loss, label='Validation Loss', color='red')\n",
    "plt.title('Training and Validation Loss')\n",
    "plt.xlabel('Epochs')\n",
    "plt.ylabel('Loss')\n",
    "plt.legend()\n",
    "plt.show()"
   ]
  },
  {
   "cell_type": "code",
   "execution_count": null,
   "id": "7d072409-cf1e-4cc4-9e41-98f34179b931",
   "metadata": {},
   "outputs": [],
   "source": []
  }
 ],
 "metadata": {
  "kernelspec": {
   "display_name": "Pranata_077",
   "language": "python",
   "name": "pranata_077"
  },
  "language_info": {
   "codemirror_mode": {
    "name": "ipython",
    "version": 3
   },
   "file_extension": ".py",
   "mimetype": "text/x-python",
   "name": "python",
   "nbconvert_exporter": "python",
   "pygments_lexer": "ipython3",
   "version": "3.10.7"
  }
 },
 "nbformat": 4,
 "nbformat_minor": 5
}
