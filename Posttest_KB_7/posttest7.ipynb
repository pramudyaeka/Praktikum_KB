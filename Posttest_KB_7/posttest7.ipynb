{
 "cells": [
  {
   "cell_type": "markdown",
   "id": "adbdbb30-6877-4ec0-8543-d7d617cc8908",
   "metadata": {},
   "source": [
    "# POSTTEST 7\n",
    "### Mengolah Data Citra"
   ]
  },
  {
   "cell_type": "markdown",
   "id": "d39aa23a-24a0-4187-96e6-f2c27998e262",
   "metadata": {},
   "source": [
    "## CNN"
   ]
  },
  {
   "cell_type": "markdown",
   "id": "5df0fe42-8eca-43a3-8e2c-388afa562d2a",
   "metadata": {},
   "source": [
    "Datasets yang digunakan: https://www.kaggle.com/datasets/misrakahmed/vegetable-image-dataset/"
   ]
  },
  {
   "cell_type": "markdown",
   "id": "1823e755-7af6-4b7a-b9a4-bd3aea08d039",
   "metadata": {},
   "source": [
    "### Import Library yang digunakan"
   ]
  },
  {
   "cell_type": "code",
   "execution_count": 2,
   "id": "ab0dd930-479b-495e-be58-dcfc896efecf",
   "metadata": {},
   "outputs": [],
   "source": [
    "import tensorflow as tf\n",
    "import matplotlib.pyplot as plt\n",
    "from tensorflow.keras.preprocessing.image import ImageDataGenerator\n",
    "import os"
   ]
  },
  {
   "cell_type": "markdown",
   "id": "2720119e-d4ad-4de3-b44f-78fe201c1b60",
   "metadata": {},
   "source": [
    "### Directory Train dan Val"
   ]
  },
  {
   "cell_type": "code",
   "execution_count": 19,
   "id": "8f2aad79-e83d-420e-9f79-438837d71ce8",
   "metadata": {},
   "outputs": [],
   "source": [
    "TRAIN_DIR ='Vegetable Images/train'\n",
    "VAL_DIR ='Vegetable Images/validation'\n",
    "TEST_DIR ='Vegetable Images/test'"
   ]
  },
  {
   "cell_type": "code",
   "execution_count": 20,
   "id": "2a1d9584-b863-4356-ac0f-70a5e61f0127",
   "metadata": {},
   "outputs": [],
   "source": [
    "train_datagen = ImageDataGenerator(\n",
    "    rescale = 1./255,\n",
    "    fill_mode='nearest'\n",
    ")\n",
    "\n",
    "val_datagen = ImageDataGenerator(rescale = 1./255,\n",
    "            validation_split=0.2)\n",
    "\n",
    "test_datagen = ImageDataGenerator(rescale = 1./255)"
   ]
  },
  {
   "cell_type": "markdown",
   "id": "df15b7df-75be-4423-933e-61c38318bc1a",
   "metadata": {},
   "source": [
    "## Augmentasi Gambar"
   ]
  },
  {
   "cell_type": "markdown",
   "id": "29a431ad-8348-4ff2-ae43-9dfc5fde1fdd",
   "metadata": {},
   "source": [
    "#### Train"
   ]
  },
  {
   "cell_type": "code",
   "execution_count": 21,
   "id": "8ede790f-beb7-4ecc-8e23-060a09fa6efc",
   "metadata": {},
   "outputs": [],
   "source": [
    "train_datagen = ImageDataGenerator(\n",
    "    rescale = 1.0/255.0,\n",
    "    rotation_range = 0.45,\n",
    "    width_shift_range = 0.25,\n",
    "    height_shift_range = 0.25,\n",
    "    shear_range = 0.2,\n",
    "    zoom_range = 0.25,\n",
    "    horizontal_flip = True,\n",
    "    fill_mode = 'nearest',\n",
    ")"
   ]
  },
  {
   "cell_type": "markdown",
   "id": "6e9927fb-4fde-4203-96d4-9199a9f19e3f",
   "metadata": {},
   "source": [
    "#### Validation"
   ]
  },
  {
   "cell_type": "code",
   "execution_count": 22,
   "id": "397195ff-df61-435c-ba79-16d4b231ef42",
   "metadata": {},
   "outputs": [],
   "source": [
    "val_datagen = ImageDataGenerator(\n",
    "    rescale = 1.0/255.0\n",
    ")"
   ]
  },
  {
   "cell_type": "markdown",
   "id": "3b28cc14-e21d-4572-b323-b8b79331accb",
   "metadata": {},
   "source": [
    "#### Test"
   ]
  },
  {
   "cell_type": "code",
   "execution_count": 23,
   "id": "a0a9a1f2-45f7-4856-b018-ba34c201322a",
   "metadata": {},
   "outputs": [],
   "source": [
    "test_datagen = ImageDataGenerator(\n",
    "    rescale = 1.0/255.0\n",
    ")"
   ]
  },
  {
   "cell_type": "markdown",
   "id": "371f60a2-1c4d-4b8d-b5a1-618b20e82900",
   "metadata": {},
   "source": [
    "## Membuat Flow From Direction\n",
    "Membuat Generator Untuk Setiap Subset"
   ]
  },
  {
   "cell_type": "markdown",
   "id": "ac5a0f16-a8a9-4824-8fe3-52c6b271c9e4",
   "metadata": {},
   "source": [
    "#### Train"
   ]
  },
  {
   "cell_type": "code",
   "execution_count": 24,
   "id": "7139677e-72ee-4457-a5a7-fd185afed191",
   "metadata": {},
   "outputs": [
    {
     "name": "stdout",
     "output_type": "stream",
     "text": [
      "Found 4000 images belonging to 4 classes.\n"
     ]
    }
   ],
   "source": [
    "train_generator = train_datagen.flow_from_directory(\r\n",
    "   TRAIN_DIR,\r\n",
    "    target_size=(150, 150),\r\n",
    "    batch_size=32,\r\n",
    "    shuffle=True,\r\n",
    "    class_mode='categorical'\r\n",
    ")"
   ]
  },
  {
   "cell_type": "markdown",
   "id": "53078901-c684-4395-84d5-70433d0f5e36",
   "metadata": {},
   "source": [
    "#### Validation"
   ]
  },
  {
   "cell_type": "code",
   "execution_count": 25,
   "id": "bb068dd7-77e4-4823-9fab-1f2088e769da",
   "metadata": {},
   "outputs": [
    {
     "name": "stdout",
     "output_type": "stream",
     "text": [
      "Found 800 images belonging to 4 classes.\n"
     ]
    }
   ],
   "source": [
    "val_generator = val_datagen.flow_from_directory(\n",
    "    VAL_DIR,\n",
    "    target_size=(150, 150),\n",
    "    batch_size=32,\n",
    "    class_mode='categorical'\n",
    ")"
   ]
  },
  {
   "cell_type": "markdown",
   "id": "43910768-abb5-4a64-a38b-af9a68782aec",
   "metadata": {},
   "source": [
    "#### Test"
   ]
  },
  {
   "cell_type": "code",
   "execution_count": 26,
   "id": "ce2b07e5-2459-44e6-ac02-ca25ea4cc465",
   "metadata": {},
   "outputs": [
    {
     "name": "stdout",
     "output_type": "stream",
     "text": [
      "Found 800 images belonging to 4 classes.\n"
     ]
    }
   ],
   "source": [
    "test_generator = test_datagen.flow_from_directory(\n",
    "    TEST_DIR,\n",
    "    target_size=(150, 150),\n",
    "    batch_size=32,\n",
    "    class_mode='categorical'\n",
    ")"
   ]
  },
  {
   "cell_type": "markdown",
   "id": "3091fc61-414c-4283-b054-b68ff2a69477",
   "metadata": {},
   "source": [
    "## Model Sequential"
   ]
  },
  {
   "cell_type": "code",
   "execution_count": 27,
   "id": "7de638b0-b84c-4f8f-a043-d27ef884f33b",
   "metadata": {},
   "outputs": [],
   "source": [
    "from tensorflow.keras import Sequential\n",
    "from tensorflow.keras.layers import Conv2D, MaxPooling2D, Flatten, Dense\n",
    "model = Sequential([\n",
    "    #CNN (Feature Extraction)\n",
    "    Conv2D(128, 3, \n",
    "           activation ='relu', \n",
    "           input_shape = [150, 150, 3]),\n",
    "    MaxPooling2D(2,2),\n",
    "    Conv2D(64, 3, activation = 'relu'),\n",
    "    MaxPooling2D(2, 2),\n",
    "    Conv2D(128, 3, activation = 'relu'),\n",
    "    MaxPooling2D(2, 2),\n",
    "    Flatten(),\n",
    "    #DNN (Fully-Connected)\n",
    "    Dense(64, activation = 'relu'),\n",
    "    Dense(4, activation = 'softmax'),\n",
    "    \n",
    "])\n",
    "\n",
    "model.compile(optimizer='Adam', loss = 'categorical_crossentropy',\n",
    "             metrics = ['accuracy'])"
   ]
  },
  {
   "cell_type": "markdown",
   "id": "812546a0-89f2-4c13-a5be-eedb00d940f3",
   "metadata": {},
   "source": [
    "#### Melatih Model"
   ]
  },
  {
   "cell_type": "code",
   "execution_count": 28,
   "id": "9a252549-5530-4f4a-8307-0fce00281f15",
   "metadata": {},
   "outputs": [
    {
     "name": "stdout",
     "output_type": "stream",
     "text": [
      "Epoch 1/10\n",
      "125/125 [==============================] - 259s 2s/step - loss: 0.7373 - accuracy: 0.6490 - val_loss: 0.3994 - val_accuracy: 0.8825\n",
      "Epoch 2/10\n",
      "125/125 [==============================] - 232s 2s/step - loss: 0.4525 - accuracy: 0.8138 - val_loss: 0.2626 - val_accuracy: 0.9013\n",
      "Epoch 3/10\n",
      "125/125 [==============================] - 231s 2s/step - loss: 0.3095 - accuracy: 0.8788 - val_loss: 0.2228 - val_accuracy: 0.9150\n",
      "Epoch 4/10\n",
      "125/125 [==============================] - 233s 2s/step - loss: 0.2316 - accuracy: 0.9137 - val_loss: 0.1160 - val_accuracy: 0.9563\n",
      "Epoch 5/10\n",
      "125/125 [==============================] - 232s 2s/step - loss: 0.1914 - accuracy: 0.9295 - val_loss: 0.0997 - val_accuracy: 0.9525\n",
      "Epoch 6/10\n",
      "125/125 [==============================] - 232s 2s/step - loss: 0.1624 - accuracy: 0.9392 - val_loss: 0.0697 - val_accuracy: 0.9875\n",
      "Epoch 7/10\n",
      "125/125 [==============================] - 232s 2s/step - loss: 0.1141 - accuracy: 0.9617 - val_loss: 0.0565 - val_accuracy: 0.9825\n",
      "Epoch 8/10\n",
      "125/125 [==============================] - 231s 2s/step - loss: 0.1037 - accuracy: 0.9600 - val_loss: 0.0676 - val_accuracy: 0.9725\n",
      "Epoch 9/10\n",
      "125/125 [==============================] - 231s 2s/step - loss: 0.1054 - accuracy: 0.9650 - val_loss: 0.0626 - val_accuracy: 0.9750\n",
      "Epoch 10/10\n",
      "125/125 [==============================] - 231s 2s/step - loss: 0.0984 - accuracy: 0.9645 - val_loss: 0.0940 - val_accuracy: 0.9625\n"
     ]
    }
   ],
   "source": [
    "hasil = model.fit(train_generator, validation_data = val_generator, epochs = 10, verbose = 1)"
   ]
  },
  {
   "cell_type": "markdown",
   "id": "6a9d2414-ac2c-496f-8012-dad58f04b582",
   "metadata": {},
   "source": [
    "### Evaluasi Model"
   ]
  },
  {
   "cell_type": "code",
   "execution_count": 29,
   "id": "634f620b-2737-42ef-a1f9-7a936aeb7d68",
   "metadata": {},
   "outputs": [
    {
     "name": "stdout",
     "output_type": "stream",
     "text": [
      "25/25 [==============================] - 18s 745ms/step - loss: 0.0850 - accuracy: 0.9688\n",
      "Loss 0.08497331291437149\n",
      "Accuracy 0.96875\n"
     ]
    }
   ],
   "source": [
    "loss, accuracy = model.evaluate(test_generator, steps=len(test_generator))\n",
    "\n",
    "print(\"Loss\", loss)\n",
    "print(\"Accuracy\", accuracy)"
   ]
  },
  {
   "cell_type": "markdown",
   "id": "098c78e1-d866-4f7e-8c53-b01a0454dadf",
   "metadata": {},
   "source": [
    "### Grafik Yang Menunjukkan Pergerakan Matriks Akurasi dan Loss"
   ]
  },
  {
   "cell_type": "code",
   "execution_count": 32,
   "id": "d229a43e-17bf-4e2b-9b5e-685fcaf8c956",
   "metadata": {},
   "outputs": [
    {
     "data": {
      "image/png": "[encoded data removed]",
      "text/plain": [
       "<Figure size 1200x500 with 2 Axes>"
      ]
     },
     "metadata": {},
     "output_type": "display_data"
    }
   ],
   "source": [
    "plt.figure(figsize=(12, 5))\n",
    "plt.subplot(1, 2, 1)\n",
    "plt.plot(hasil.history['accuracy'], label='Training Accuracy')\n",
    "plt.plot(hasil.history['val_accuracy'], label='Validation Accuracy')\n",
    "plt.title('Accuracy')\n",
    "plt.xlabel('Epoch')\n",
    "plt.ylabel('Accuracy')\n",
    "plt.legend()\n",
    "\n",
    "plt.subplot(1, 2, 2)\n",
    "plt.plot(hasil.history['loss'], label='Training Loss')\n",
    "plt.plot(hasil.history['val_loss'], label='Validation Loss')\n",
    "plt.title('Loss')\n",
    "plt.xlabel('Epoch')\n",
    "plt.ylabel('Loss')\n",
    "plt.legend()\n",
    "\n",
    "plt.show()"
   ]
  },
  {
   "cell_type": "code",
   "execution_count": null,
   "id": "7aaebcd8-ca09-47cc-bec4-acc4c5d05ae0",
   "metadata": {},
   "outputs": [],
   "source": []
  }
 ],
 "metadata": {
  "kernelspec": {
   "display_name": "Pranata_077",
   "language": "python",
   "name": "pranata_077"
  },
  "language_info": {
   "codemirror_mode": {
    "name": "ipython",
    "version": 3
   },
   "file_extension": ".py",
   "mimetype": "text/x-python",
   "name": "python",
   "nbconvert_exporter": "python",
   "pygments_lexer": "ipython3",
   "version": "3.10.7"
  }
 },
 "nbformat": 4,
 "nbformat_minor": 5
}
